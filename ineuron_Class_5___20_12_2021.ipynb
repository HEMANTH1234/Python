{
 "cells": [
  {
   "cell_type": "code",
   "execution_count": 1,
   "id": "cad9e0a0",
   "metadata": {},
   "outputs": [],
   "source": [
    "# for loop in List (5)\n",
    "# for loop in String (6)\n",
    "# for else, Only after the complete for is done. then, it will come to the else statement.\n",
    "# while loop (19)\n",
    "# For loop works for collection and while loop works with a condition.\n",
    "# while loop with break and continue in it. continue will throw it to a loop\n",
    "# If any loop is declared then if you want to just end it without giving any statements then pass is used. (6)\n",
    "#  * symbol indicates that the code is still running.\n",
    "# Print the contents of a tuple in a reverse order. (89)\n",
    "# Key in a Dictionary behaves like an index in a List or String or a tuple.\n",
    "# # Extract and iterate can be done with the help of a for loop in case of a List, Set, Tuple, Range function, Dictionary, String.\n",
    "# While loop always work with a condition and For loop will works with a size of the collection."
   ]
  },
  {
   "cell_type": "code",
   "execution_count": 10,
   "id": "47abe35e",
   "metadata": {},
   "outputs": [
    {
     "name": "stdout",
     "output_type": "stream",
     "text": [
      "\n",
      "name\n",
      "\n",
      "Email_id\n",
      "\n",
      "Phone_number\n",
      "\n",
      "Address\n"
     ]
    }
   ],
   "source": [
    "L = ['name', 'Email_id', 'Phone_number', 'Address']\n",
    "for i in L :\n",
    "    print(i + input())"
   ]
  },
  {
   "cell_type": "code",
   "execution_count": 11,
   "id": "b229cc3f",
   "metadata": {},
   "outputs": [
    {
     "name": "stdout",
     "output_type": "stream",
     "text": [
      "name hemanth\n",
      "Email_id hemanth\n",
      "Phone_number hemanth\n",
      "Address hemanth\n"
     ]
    }
   ],
   "source": [
    "L = ['name', 'Email_id', 'Phone_number', 'Address']\n",
    "for i in L :\n",
    "    print(i + ' hemanth')"
   ]
  },
  {
   "cell_type": "code",
   "execution_count": 12,
   "id": "4b82d9e4",
   "metadata": {},
   "outputs": [
    {
     "name": "stdout",
     "output_type": "stream",
     "text": [
      "i\n",
      "n\n",
      "e\n",
      "u\n",
      "r\n",
      "o\n",
      "n\n"
     ]
    }
   ],
   "source": [
    "S = 'ineuron'\n",
    "for i in S :\n",
    "    print(i)"
   ]
  },
  {
   "cell_type": "code",
   "execution_count": 13,
   "id": "4580d295",
   "metadata": {},
   "outputs": [
    {
     "data": {
      "text/plain": [
       "['name', 'Email_id', 'Phone_number', 'Address']"
      ]
     },
     "execution_count": 13,
     "metadata": {},
     "output_type": "execute_result"
    }
   ],
   "source": [
    "L"
   ]
  },
  {
   "cell_type": "code",
   "execution_count": 14,
   "id": "1b118d54",
   "metadata": {},
   "outputs": [
    {
     "name": "stdout",
     "output_type": "stream",
     "text": [
      "name\n",
      "Email_id\n",
      "Phone_number\n",
      "Address\n",
      "if for loop is not going to compete itself then it will come to else \n"
     ]
    }
   ],
   "source": [
    "for i in L :\n",
    "    print(i)\n",
    "else :\n",
    "    print('if for loop is not going to compete itself then it will come to else ')"
   ]
  },
  {
   "cell_type": "code",
   "execution_count": 15,
   "id": "29f38df5",
   "metadata": {},
   "outputs": [
    {
     "data": {
      "text/plain": [
       "['name', 'Email_id', 'Phone_number', 'Address']"
      ]
     },
     "execution_count": 15,
     "metadata": {},
     "output_type": "execute_result"
    }
   ],
   "source": [
    "L\n"
   ]
  },
  {
   "cell_type": "code",
   "execution_count": 16,
   "id": "8d86170f",
   "metadata": {},
   "outputs": [
    {
     "name": "stdout",
     "output_type": "stream",
     "text": [
      "name\n"
     ]
    }
   ],
   "source": [
    "for i in L :\n",
    "    if i == \"Email_id\" :\n",
    "        break\n",
    "    print(i)\n",
    "else :\n",
    "    print(\"check the statement\")"
   ]
  },
  {
   "cell_type": "code",
   "execution_count": 17,
   "id": "63b9d489",
   "metadata": {},
   "outputs": [],
   "source": [
    "s = 'Hemanth'\n",
    "for i in s :\n",
    "    if i == 'm':\n",
    "        break\n",
    "else :\n",
    "    print('dont execute is unless and until it is not printing my name')\n"
   ]
  },
  {
   "cell_type": "code",
   "execution_count": 19,
   "id": "e7f8f84b",
   "metadata": {},
   "outputs": [
    {
     "name": "stdout",
     "output_type": "stream",
     "text": [
      "1\n",
      "2\n",
      "3\n",
      "4\n",
      "5\n",
      "6\n",
      "7\n",
      "8\n",
      "9\n"
     ]
    }
   ],
   "source": [
    "a = 1\n",
    "while a < 10 :\n",
    "    print(a)\n",
    "    a = a+1\n",
    "    "
   ]
  },
  {
   "cell_type": "code",
   "execution_count": 18,
   "id": "29e1c38c",
   "metadata": {},
   "outputs": [
    {
     "name": "stdout",
     "output_type": "stream",
     "text": [
      "1\n",
      "2\n",
      "3\n",
      "4\n"
     ]
    }
   ],
   "source": [
    "a = 1\n",
    "while a < 5 :\n",
    "    print(a)\n",
    "    if a == 4 :\n",
    "        break\n",
    "    a = a + 1\n",
    "    "
   ]
  },
  {
   "cell_type": "code",
   "execution_count": 5,
   "id": "af0dd196",
   "metadata": {},
   "outputs": [
    {
     "name": "stdout",
     "output_type": "stream",
     "text": [
      "1\n",
      "2\n",
      "3\n",
      "4\n"
     ]
    }
   ],
   "source": [
    "a = 1\n",
    "while a < 5:\n",
    "    print(a)\n",
    "    a = a + 1\n",
    "    if a == 3:\n",
    "        continue\n",
    "        \n",
    "    "
   ]
  },
  {
   "cell_type": "code",
   "execution_count": 6,
   "id": "91d7e220",
   "metadata": {},
   "outputs": [],
   "source": [
    "while a < 5:\n",
    "    pass"
   ]
  },
  {
   "cell_type": "code",
   "execution_count": 20,
   "id": "486498e3",
   "metadata": {},
   "outputs": [],
   "source": [
    "for i in L :\n",
    "    pass"
   ]
  },
  {
   "cell_type": "code",
   "execution_count": 21,
   "id": "c163eb7b",
   "metadata": {},
   "outputs": [],
   "source": [
    "while a < 4 :\n",
    "    break"
   ]
  },
  {
   "cell_type": "code",
   "execution_count": null,
   "id": "7682fcf3",
   "metadata": {},
   "outputs": [],
   "source": [
    "a = 1\n",
    "while a < 4 :\n",
    "    continue"
   ]
  },
  {
   "cell_type": "code",
   "execution_count": 24,
   "id": "c8ef5d18",
   "metadata": {},
   "outputs": [
    {
     "ename": "SyntaxError",
     "evalue": "invalid syntax (Temp/ipykernel_18592/4092584049.py, line 2)",
     "output_type": "error",
     "traceback": [
      "\u001b[1;36m  File \u001b[1;32m\"C:\\Users\\h3kumar\\AppData\\Local\\Temp/ipykernel_18592/4092584049.py\"\u001b[1;36m, line \u001b[1;32m2\u001b[0m\n\u001b[1;33m    while i < = 5 :\u001b[0m\n\u001b[1;37m              ^\u001b[0m\n\u001b[1;31mSyntaxError\u001b[0m\u001b[1;31m:\u001b[0m invalid syntax\n"
     ]
    }
   ],
   "source": [
    "i = 1\n",
    "while i < = 5 :\n",
    "    for j "
   ]
  },
  {
   "cell_type": "code",
   "execution_count": 26,
   "id": "19249c65",
   "metadata": {},
   "outputs": [
    {
     "data": {
      "text/plain": [
       "range(0, 6)"
      ]
     },
     "execution_count": 26,
     "metadata": {},
     "output_type": "execute_result"
    }
   ],
   "source": [
    "# Range\n",
    "# This will generate a data from 0 to n by excluding the upper bound\n",
    "range(6)"
   ]
  },
  {
   "cell_type": "code",
   "execution_count": 27,
   "id": "5e9e701c",
   "metadata": {},
   "outputs": [
    {
     "data": {
      "text/plain": [
       "[0, 1, 2, 3, 4, 5]"
      ]
     },
     "execution_count": 27,
     "metadata": {},
     "output_type": "execute_result"
    }
   ],
   "source": [
    "list(range(6))"
   ]
  },
  {
   "cell_type": "code",
   "execution_count": 28,
   "id": "0b728e87",
   "metadata": {},
   "outputs": [
    {
     "data": {
      "text/plain": [
       "(0, 1, 2, 3, 4, 5)"
      ]
     },
     "execution_count": 28,
     "metadata": {},
     "output_type": "execute_result"
    }
   ],
   "source": [
    "tuple(range(6))"
   ]
  },
  {
   "cell_type": "code",
   "execution_count": 29,
   "id": "345be059",
   "metadata": {},
   "outputs": [
    {
     "data": {
      "text/plain": [
       "{0, 1, 2, 3, 4, 5}"
      ]
     },
     "execution_count": 29,
     "metadata": {},
     "output_type": "execute_result"
    }
   ],
   "source": [
    "set(range(6))"
   ]
  },
  {
   "cell_type": "code",
   "execution_count": 31,
   "id": "a8997fe1",
   "metadata": {},
   "outputs": [
    {
     "data": {
      "text/plain": [
       "range(1, 7)"
      ]
     },
     "execution_count": 31,
     "metadata": {},
     "output_type": "execute_result"
    }
   ],
   "source": [
    "range(1,7)\n",
    "# Range can also be declared like this."
   ]
  },
  {
   "cell_type": "code",
   "execution_count": 32,
   "id": "509c4e85",
   "metadata": {},
   "outputs": [
    {
     "data": {
      "text/plain": [
       "[4,\n",
       " 5,\n",
       " 6,\n",
       " 7,\n",
       " 8,\n",
       " 9,\n",
       " 10,\n",
       " 11,\n",
       " 12,\n",
       " 13,\n",
       " 14,\n",
       " 15,\n",
       " 16,\n",
       " 17,\n",
       " 18,\n",
       " 19,\n",
       " 20,\n",
       " 21,\n",
       " 22,\n",
       " 23,\n",
       " 24,\n",
       " 25,\n",
       " 26,\n",
       " 27,\n",
       " 28,\n",
       " 29,\n",
       " 30,\n",
       " 31,\n",
       " 32,\n",
       " 33,\n",
       " 34,\n",
       " 35,\n",
       " 36,\n",
       " 37,\n",
       " 38,\n",
       " 39,\n",
       " 40,\n",
       " 41,\n",
       " 42,\n",
       " 43,\n",
       " 44,\n",
       " 45,\n",
       " 46,\n",
       " 47,\n",
       " 48,\n",
       " 49,\n",
       " 50,\n",
       " 51,\n",
       " 52,\n",
       " 53,\n",
       " 54,\n",
       " 55,\n",
       " 56,\n",
       " 57,\n",
       " 58,\n",
       " 59,\n",
       " 60,\n",
       " 61,\n",
       " 62,\n",
       " 63,\n",
       " 64,\n",
       " 65,\n",
       " 66,\n",
       " 67,\n",
       " 68,\n",
       " 69,\n",
       " 70,\n",
       " 71,\n",
       " 72,\n",
       " 73,\n",
       " 74,\n",
       " 75,\n",
       " 76,\n",
       " 77,\n",
       " 78,\n",
       " 79,\n",
       " 80,\n",
       " 81,\n",
       " 82,\n",
       " 83,\n",
       " 84,\n",
       " 85,\n",
       " 86,\n",
       " 87,\n",
       " 88,\n",
       " 89,\n",
       " 90,\n",
       " 91,\n",
       " 92,\n",
       " 93,\n",
       " 94,\n",
       " 95,\n",
       " 96,\n",
       " 97,\n",
       " 98,\n",
       " 99]"
      ]
     },
     "execution_count": 32,
     "metadata": {},
     "output_type": "execute_result"
    }
   ],
   "source": [
    "list(range(4,100))"
   ]
  },
  {
   "cell_type": "code",
   "execution_count": 34,
   "id": "57bf9c0a",
   "metadata": {},
   "outputs": [
    {
     "data": {
      "text/plain": [
       "[3, 5, 7, 9]"
      ]
     },
     "execution_count": 34,
     "metadata": {},
     "output_type": "execute_result"
    }
   ],
   "source": [
    "list(range(3, 10, 2))"
   ]
  },
  {
   "cell_type": "code",
   "execution_count": 35,
   "id": "7bc07e61",
   "metadata": {},
   "outputs": [
    {
     "data": {
      "text/plain": [
       "[3, 4, 5, 6, 7, 8, 9]"
      ]
     },
     "execution_count": 35,
     "metadata": {},
     "output_type": "execute_result"
    }
   ],
   "source": [
    "list(range(3, 10, 1))"
   ]
  },
  {
   "cell_type": "code",
   "execution_count": 36,
   "id": "2ce2a247",
   "metadata": {},
   "outputs": [
    {
     "data": {
      "text/plain": [
       "[3, 4, 5, 6, 7, 8, 9]"
      ]
     },
     "execution_count": 36,
     "metadata": {},
     "output_type": "execute_result"
    }
   ],
   "source": [
    "list(range(3, 10))"
   ]
  },
  {
   "cell_type": "code",
   "execution_count": 37,
   "id": "f75324fe",
   "metadata": {},
   "outputs": [
    {
     "data": {
      "text/plain": [
       "[]"
      ]
     },
     "execution_count": 37,
     "metadata": {},
     "output_type": "execute_result"
    }
   ],
   "source": [
    "list(range(3, 10, -1))"
   ]
  },
  {
   "cell_type": "code",
   "execution_count": 38,
   "id": "ba35d087",
   "metadata": {},
   "outputs": [
    {
     "data": {
      "text/plain": [
       "[3, 2, 1, 0, -1]"
      ]
     },
     "execution_count": 38,
     "metadata": {},
     "output_type": "execute_result"
    }
   ],
   "source": [
    "list(range(3, -2, -1))"
   ]
  },
  {
   "cell_type": "code",
   "execution_count": 39,
   "id": "198580a3",
   "metadata": {},
   "outputs": [
    {
     "data": {
      "text/plain": [
       "[-3, -4, -5, -6, -7, -8, -9]"
      ]
     },
     "execution_count": 39,
     "metadata": {},
     "output_type": "execute_result"
    }
   ],
   "source": [
    "list(range(-3, -10, -1))"
   ]
  },
  {
   "cell_type": "code",
   "execution_count": 42,
   "id": "c9cb8406",
   "metadata": {},
   "outputs": [
    {
     "data": {
      "text/plain": [
       "[10, 9, 8, 7]"
      ]
     },
     "execution_count": 42,
     "metadata": {},
     "output_type": "execute_result"
    }
   ],
   "source": [
    "list(range(10, 6, -1))"
   ]
  },
  {
   "cell_type": "code",
   "execution_count": 44,
   "id": "841f7795",
   "metadata": {},
   "outputs": [
    {
     "data": {
      "text/plain": [
       "[10, 8, 6, 4, 2, 0, -2, -4]"
      ]
     },
     "execution_count": 44,
     "metadata": {},
     "output_type": "execute_result"
    }
   ],
   "source": [
    "list(range(10, -5, -2))"
   ]
  },
  {
   "cell_type": "code",
   "execution_count": 45,
   "id": "6d71b422",
   "metadata": {},
   "outputs": [
    {
     "name": "stdout",
     "output_type": "stream",
     "text": [
      "0\n",
      "1\n",
      "2\n",
      "3\n",
      "4\n",
      "5\n",
      "6\n"
     ]
    }
   ],
   "source": [
    "for i in range(7) :\n",
    "    print(i)"
   ]
  },
  {
   "cell_type": "code",
   "execution_count": 52,
   "id": "5079b7c7",
   "metadata": {},
   "outputs": [
    {
     "name": "stdout",
     "output_type": "stream",
     "text": [
      "2\n",
      "3\n",
      "4\n",
      "5\n",
      "6\n"
     ]
    }
   ],
   "source": [
    "j = 0\n",
    "for i in range(2,7) :\n",
    "    print(i)\n",
    "        "
   ]
  },
  {
   "cell_type": "code",
   "execution_count": 72,
   "id": "0eee8c26",
   "metadata": {},
   "outputs": [
    {
     "name": "stdout",
     "output_type": "stream",
     "text": [
      "* \r\n",
      "* * \r\n",
      "* * * \r\n",
      "* * * * \r\n",
      "* * * * * \r\n"
     ]
    }
   ],
   "source": [
    "n = 5\n",
    "for i in range(0,n) :\n",
    "    for j in range(0,i+1) :\n",
    "        print('* ', end = '')\n",
    "    print('\\r')\n",
    "    "
   ]
  },
  {
   "cell_type": "code",
   "execution_count": 73,
   "id": "83b999ac",
   "metadata": {},
   "outputs": [
    {
     "name": "stdout",
     "output_type": "stream",
     "text": [
      "1\n",
      "2\n",
      "3\n",
      "4\n",
      "5\n",
      "6\n",
      "6\n",
      "6\n",
      "6\n",
      "7\n",
      "8\n",
      "9\n"
     ]
    }
   ],
   "source": [
    "l = [1,2,3,4,5,6,6,6,6,7,8,9]\n",
    "for i in l :\n",
    "    print(i)"
   ]
  },
  {
   "cell_type": "code",
   "execution_count": 97,
   "id": "52347453",
   "metadata": {},
   "outputs": [],
   "source": [
    "t = (1,5,6,8,9,9,11,16,18,20)"
   ]
  },
  {
   "cell_type": "code",
   "execution_count": 98,
   "id": "37193a58",
   "metadata": {},
   "outputs": [
    {
     "name": "stdout",
     "output_type": "stream",
     "text": [
      "1\n",
      "5\n",
      "6\n",
      "8\n",
      "9\n",
      "9\n",
      "11\n",
      "16\n",
      "18\n",
      "20\n"
     ]
    }
   ],
   "source": [
    "for i in t :\n",
    "    print(i)"
   ]
  },
  {
   "cell_type": "code",
   "execution_count": 99,
   "id": "a88edd04",
   "metadata": {},
   "outputs": [
    {
     "name": "stdout",
     "output_type": "stream",
     "text": [
      "0 - 1\n",
      "1 - 5\n",
      "2 - 6\n",
      "3 - 8\n",
      "4 - 9\n",
      "5 - 9\n",
      "6 - 11\n"
     ]
    }
   ],
   "source": [
    "s = 'ineuron' \n",
    "for i in list(range(len(s))) :\n",
    "    print(i , '-' , t[i])"
   ]
  },
  {
   "cell_type": "code",
   "execution_count": 100,
   "id": "471423de",
   "metadata": {},
   "outputs": [
    {
     "name": "stdout",
     "output_type": "stream",
     "text": [
      "i\n",
      "n\n",
      "e\n",
      "u\n",
      "r\n",
      "o\n",
      "n\n"
     ]
    }
   ],
   "source": [
    "for i in s :\n",
    "    print(i)"
   ]
  },
  {
   "cell_type": "code",
   "execution_count": 101,
   "id": "e011a51e",
   "metadata": {},
   "outputs": [
    {
     "data": {
      "text/plain": [
       "(20, 18, 16, 11, 9, 9, 8, 6, 5, 1)"
      ]
     },
     "execution_count": 101,
     "metadata": {},
     "output_type": "execute_result"
    }
   ],
   "source": [
    "t[::-1]"
   ]
  },
  {
   "cell_type": "code",
   "execution_count": 102,
   "id": "5dc598c2",
   "metadata": {},
   "outputs": [
    {
     "name": "stdout",
     "output_type": "stream",
     "text": [
      "20\n",
      "18\n",
      "16\n",
      "11\n",
      "9\n",
      "9\n",
      "8\n",
      "6\n",
      "5\n",
      "1\n"
     ]
    }
   ],
   "source": [
    "# print the numbers of a tuple in a reverse order \n",
    "for i in list(range(len(t))) :\n",
    "    print(t[len(t)-i-1])"
   ]
  },
  {
   "cell_type": "code",
   "execution_count": 103,
   "id": "7bd51017",
   "metadata": {},
   "outputs": [
    {
     "data": {
      "text/plain": [
       "[10, 9, 8, 7, 6, 5, 4, 3, 2, 1]"
      ]
     },
     "execution_count": 103,
     "metadata": {},
     "output_type": "execute_result"
    }
   ],
   "source": [
    "list(range(len(t),0,-1))"
   ]
  },
  {
   "cell_type": "code",
   "execution_count": 104,
   "id": "5700ff0f",
   "metadata": {},
   "outputs": [
    {
     "name": "stdout",
     "output_type": "stream",
     "text": [
      "20\n",
      "18\n",
      "16\n",
      "11\n",
      "9\n",
      "9\n",
      "8\n",
      "6\n",
      "5\n",
      "1\n"
     ]
    }
   ],
   "source": [
    "# Very interesting code. This code will give an output of numbers in a tuple in reverse order.\n",
    "\n",
    "\n",
    "for i in list(range(len(t)-1,-1,-1)) :\n",
    "    print(t[i])"
   ]
  },
  {
   "cell_type": "code",
   "execution_count": 105,
   "id": "86d26f77",
   "metadata": {},
   "outputs": [
    {
     "name": "stdout",
     "output_type": "stream",
     "text": [
      "20\n",
      "18\n",
      "16\n",
      "11\n",
      "9\n",
      "9\n",
      "8\n",
      "6\n",
      "5\n",
      "1\n"
     ]
    }
   ],
   "source": [
    "for i in range(len(t)-1,-1,-1) :\n",
    "    print(t[i])"
   ]
  },
  {
   "cell_type": "code",
   "execution_count": 107,
   "id": "ea40453f",
   "metadata": {},
   "outputs": [],
   "source": [
    "d = {'a' : 'fsds', 'b' : 'Hemu', 'c' : [1,2,3,5,7], 'd' : (9,0,7,5), 'e' : 'hahahahaha' }"
   ]
  },
  {
   "cell_type": "code",
   "execution_count": 110,
   "id": "ed8a87c0",
   "metadata": {},
   "outputs": [
    {
     "name": "stdout",
     "output_type": "stream",
     "text": [
      "a - fsds\n",
      "b - Hemu\n",
      "c - [1, 2, 3, 5, 7]\n",
      "d - (9, 0, 7, 5)\n",
      "e - hahahahaha\n"
     ]
    }
   ],
   "source": [
    "for i in d :\n",
    "    print(i, '-' , d[i])"
   ]
  },
  {
   "cell_type": "code",
   "execution_count": 111,
   "id": "70f88cda",
   "metadata": {},
   "outputs": [
    {
     "data": {
      "text/plain": [
       "dict_items([('a', 'fsds'), ('b', 'Hemu'), ('c', [1, 2, 3, 5, 7]), ('d', (9, 0, 7, 5)), ('e', 'hahahahaha')])"
      ]
     },
     "execution_count": 111,
     "metadata": {},
     "output_type": "execute_result"
    }
   ],
   "source": [
    "d.items()"
   ]
  },
  {
   "cell_type": "code",
   "execution_count": 114,
   "id": "b1a6994a",
   "metadata": {},
   "outputs": [
    {
     "name": "stdout",
     "output_type": "stream",
     "text": [
      "('a', 'fsds')\n",
      "('b', 'Hemu')\n",
      "('c', [1, 2, 3, 5, 7])\n",
      "('d', (9, 0, 7, 5))\n",
      "('e', 'hahahahaha')\n"
     ]
    }
   ],
   "source": [
    "for i in d.items() :\n",
    "    print(i)"
   ]
  },
  {
   "cell_type": "code",
   "execution_count": 115,
   "id": "2ef1affe",
   "metadata": {},
   "outputs": [],
   "source": [
    "s = {1,3,5,76,57895,7528720,256,1,3,5,76}\n"
   ]
  },
  {
   "cell_type": "code",
   "execution_count": 117,
   "id": "99cb8aa0",
   "metadata": {},
   "outputs": [
    {
     "data": {
      "text/plain": [
       "{1, 3, 5, 76, 256, 57895, 7528720}"
      ]
     },
     "execution_count": 117,
     "metadata": {},
     "output_type": "execute_result"
    }
   ],
   "source": [
    "# A Set is an unordered collection of an unique elements.\n",
    "s"
   ]
  },
  {
   "cell_type": "code",
   "execution_count": 118,
   "id": "07d2b23a",
   "metadata": {},
   "outputs": [
    {
     "data": {
      "text/plain": [
       "{1, 3, 5, 76, 256, 57895, 7528720}"
      ]
     },
     "execution_count": 118,
     "metadata": {},
     "output_type": "execute_result"
    }
   ],
   "source": [
    "s"
   ]
  },
  {
   "cell_type": "code",
   "execution_count": 119,
   "id": "39f60e66",
   "metadata": {},
   "outputs": [
    {
     "name": "stdout",
     "output_type": "stream",
     "text": [
      "256\n",
      "1\n",
      "7528720\n",
      "3\n",
      "5\n",
      "57895\n",
      "76\n"
     ]
    }
   ],
   "source": [
    "for i in s :\n",
    "    print(i)"
   ]
  },
  {
   "cell_type": "code",
   "execution_count": 123,
   "id": "2e700a2c",
   "metadata": {},
   "outputs": [],
   "source": [
    "# Extract and iterate can be done with the help of a for loop in case of a List, Set, Tuple, Range function, Dictionary, String."
   ]
  },
  {
   "cell_type": "code",
   "execution_count": null,
   "id": "67614eef",
   "metadata": {},
   "outputs": [],
   "source": []
  }
 ],
 "metadata": {
  "kernelspec": {
   "display_name": "Python 3 (ipykernel)",
   "language": "python",
   "name": "python3"
  },
  "language_info": {
   "codemirror_mode": {
    "name": "ipython",
    "version": 3
   },
   "file_extension": ".py",
   "mimetype": "text/x-python",
   "name": "python",
   "nbconvert_exporter": "python",
   "pygments_lexer": "ipython3",
   "version": "3.9.7"
  }
 },
 "nbformat": 4,
 "nbformat_minor": 5
}
