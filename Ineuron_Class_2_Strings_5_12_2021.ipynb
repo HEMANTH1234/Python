{
 "cells": [
  {
   "cell_type": "code",
   "execution_count": 15,
   "id": "3352fe6a",
   "metadata": {},
   "outputs": [],
   "source": [
    "a = \"my name is hemu\""
   ]
  },
  {
   "cell_type": "code",
   "execution_count": 16,
   "id": "88eb8e55",
   "metadata": {},
   "outputs": [
    {
     "data": {
      "text/plain": [
       "str"
      ]
     },
     "execution_count": 16,
     "metadata": {},
     "output_type": "execute_result"
    }
   ],
   "source": [
    "type(a)"
   ]
  },
  {
   "cell_type": "code",
   "execution_count": 17,
   "id": "14f57b99",
   "metadata": {},
   "outputs": [
    {
     "data": {
      "text/plain": [
       "' '"
      ]
     },
     "execution_count": 17,
     "metadata": {},
     "output_type": "execute_result"
    }
   ],
   "source": [
    "a[2]"
   ]
  },
  {
   "cell_type": "code",
   "execution_count": 18,
   "id": "abb65e5c",
   "metadata": {},
   "outputs": [
    {
     "data": {
      "text/plain": [
       "'m'"
      ]
     },
     "execution_count": 18,
     "metadata": {},
     "output_type": "execute_result"
    }
   ],
   "source": [
    "a[0]"
   ]
  },
  {
   "cell_type": "code",
   "execution_count": 19,
   "id": "b01c0579",
   "metadata": {},
   "outputs": [
    {
     "data": {
      "text/plain": [
       "'y'"
      ]
     },
     "execution_count": 19,
     "metadata": {},
     "output_type": "execute_result"
    }
   ],
   "source": [
    "a[1:2]"
   ]
  },
  {
   "cell_type": "code",
   "execution_count": 20,
   "id": "bc957411",
   "metadata": {},
   "outputs": [
    {
     "data": {
      "text/plain": [
       "'y '"
      ]
     },
     "execution_count": 20,
     "metadata": {},
     "output_type": "execute_result"
    }
   ],
   "source": [
    "a[1:3]"
   ]
  },
  {
   "cell_type": "code",
   "execution_count": 21,
   "id": "d21fa646",
   "metadata": {},
   "outputs": [
    {
     "name": "stdout",
     "output_type": "stream",
     "text": [
      "In a string for each charecter it will assign a index startig from 0, 1, 2, 3 ..... Also, from backward direction starting from index -1, -2.....\n"
     ]
    }
   ],
   "source": [
    "print(\"In a string for each charecter it will assign a index startig from 0, 1, 2, 3 ..... Also, from backward direction starting from index -1, -2.....\")"
   ]
  },
  {
   "cell_type": "code",
   "execution_count": 22,
   "id": "0aea8682",
   "metadata": {},
   "outputs": [
    {
     "data": {
      "text/plain": [
       "'u'"
      ]
     },
     "execution_count": 22,
     "metadata": {},
     "output_type": "execute_result"
    }
   ],
   "source": [
    "a[-1]"
   ]
  },
  {
   "cell_type": "code",
   "execution_count": 23,
   "id": "7e817b44",
   "metadata": {},
   "outputs": [
    {
     "data": {
      "text/plain": [
       "'u'"
      ]
     },
     "execution_count": 23,
     "metadata": {},
     "output_type": "execute_result"
    }
   ],
   "source": [
    "a[-1:]"
   ]
  },
  {
   "cell_type": "code",
   "execution_count": 24,
   "id": "9ff92ed4",
   "metadata": {},
   "outputs": [
    {
     "data": {
      "text/plain": [
       "'my name is'"
      ]
     },
     "execution_count": 24,
     "metadata": {},
     "output_type": "execute_result"
    }
   ],
   "source": [
    "a[0:10]"
   ]
  },
  {
   "cell_type": "code",
   "execution_count": 25,
   "id": "9817d6a7",
   "metadata": {},
   "outputs": [
    {
     "name": "stdout",
     "output_type": "stream",
     "text": [
      "In the above example upper bound will be excluded 10th index space is excluded \n"
     ]
    }
   ],
   "source": [
    "print(\"In the above example upper bound will be excluded 10th index space is excluded \")"
   ]
  },
  {
   "cell_type": "code",
   "execution_count": 26,
   "id": "11c99d43",
   "metadata": {},
   "outputs": [],
   "source": [
    "b = 'ineuron'"
   ]
  },
  {
   "cell_type": "code",
   "execution_count": 27,
   "id": "86c3b450",
   "metadata": {},
   "outputs": [
    {
     "data": {
      "text/plain": [
       "'ine'"
      ]
     },
     "execution_count": 27,
     "metadata": {},
     "output_type": "execute_result"
    }
   ],
   "source": [
    "b[0:3]"
   ]
  },
  {
   "cell_type": "code",
   "execution_count": 28,
   "id": "0b936f56",
   "metadata": {},
   "outputs": [
    {
     "data": {
      "text/plain": [
       "'ineuron'"
      ]
     },
     "execution_count": 28,
     "metadata": {},
     "output_type": "execute_result"
    }
   ],
   "source": [
    "b[0:300]"
   ]
  },
  {
   "cell_type": "code",
   "execution_count": 29,
   "id": "21e45cac",
   "metadata": {},
   "outputs": [
    {
     "ename": "IndexError",
     "evalue": "string index out of range",
     "output_type": "error",
     "traceback": [
      "\u001b[1;31m---------------------------------------------------------------------------\u001b[0m",
      "\u001b[1;31mIndexError\u001b[0m                                Traceback (most recent call last)",
      "\u001b[1;32m~\\AppData\\Local\\Temp/ipykernel_17592/2380424124.py\u001b[0m in \u001b[0;36m<module>\u001b[1;34m\u001b[0m\n\u001b[1;32m----> 1\u001b[1;33m \u001b[0mb\u001b[0m\u001b[1;33m[\u001b[0m\u001b[1;36m300\u001b[0m\u001b[1;33m]\u001b[0m\u001b[1;33m\u001b[0m\u001b[1;33m\u001b[0m\u001b[0m\n\u001b[0m",
      "\u001b[1;31mIndexError\u001b[0m: string index out of range"
     ]
    }
   ],
   "source": [
    "b[300]"
   ]
  },
  {
   "cell_type": "code",
   "execution_count": 30,
   "id": "90b78b2e",
   "metadata": {},
   "outputs": [
    {
     "data": {
      "text/plain": [
       "'n'"
      ]
     },
     "execution_count": 30,
     "metadata": {},
     "output_type": "execute_result"
    }
   ],
   "source": [
    "b[-1]"
   ]
  },
  {
   "cell_type": "code",
   "execution_count": 31,
   "id": "b9e80fc5",
   "metadata": {},
   "outputs": [
    {
     "ename": "IndexError",
     "evalue": "string index out of range",
     "output_type": "error",
     "traceback": [
      "\u001b[1;31m---------------------------------------------------------------------------\u001b[0m",
      "\u001b[1;31mIndexError\u001b[0m                                Traceback (most recent call last)",
      "\u001b[1;32m~\\AppData\\Local\\Temp/ipykernel_17592/3371902095.py\u001b[0m in \u001b[0;36m<module>\u001b[1;34m\u001b[0m\n\u001b[1;32m----> 1\u001b[1;33m \u001b[0mb\u001b[0m\u001b[1;33m[\u001b[0m\u001b[1;33m-\u001b[0m\u001b[1;36m100\u001b[0m\u001b[1;33m]\u001b[0m\u001b[1;33m\u001b[0m\u001b[1;33m\u001b[0m\u001b[0m\n\u001b[0m",
      "\u001b[1;31mIndexError\u001b[0m: string index out of range"
     ]
    }
   ],
   "source": [
    "b[-100]"
   ]
  },
  {
   "cell_type": "code",
   "execution_count": 32,
   "id": "7339bce8",
   "metadata": {},
   "outputs": [
    {
     "data": {
      "text/plain": [
       "''"
      ]
     },
     "execution_count": 32,
     "metadata": {},
     "output_type": "execute_result"
    }
   ],
   "source": [
    "b[-1:-3]"
   ]
  },
  {
   "cell_type": "code",
   "execution_count": 33,
   "id": "514b259a",
   "metadata": {},
   "outputs": [],
   "source": [
    "a = \"kumar\""
   ]
  },
  {
   "cell_type": "code",
   "execution_count": 35,
   "id": "2f9b6978",
   "metadata": {},
   "outputs": [
    {
     "data": {
      "text/plain": [
       "'kumar'"
      ]
     },
     "execution_count": 35,
     "metadata": {},
     "output_type": "execute_result"
    }
   ],
   "source": [
    "a[0:300:1]"
   ]
  },
  {
   "cell_type": "code",
   "execution_count": 36,
   "id": "fa0f936f",
   "metadata": {},
   "outputs": [
    {
     "name": "stdout",
     "output_type": "stream",
     "text": [
      "start,end,jump\n"
     ]
    }
   ],
   "source": [
    "print(\"start,end,jump\")"
   ]
  },
  {
   "cell_type": "code",
   "execution_count": 37,
   "id": "7a83d1aa",
   "metadata": {},
   "outputs": [
    {
     "data": {
      "text/plain": [
       "'kmr'"
      ]
     },
     "execution_count": 37,
     "metadata": {},
     "output_type": "execute_result"
    }
   ],
   "source": [
    "a[0:300:2]"
   ]
  },
  {
   "cell_type": "code",
   "execution_count": 38,
   "id": "886f0aee",
   "metadata": {},
   "outputs": [
    {
     "data": {
      "text/plain": [
       "''"
      ]
     },
     "execution_count": 38,
     "metadata": {},
     "output_type": "execute_result"
    }
   ],
   "source": [
    "a[0:100:-1]"
   ]
  },
  {
   "cell_type": "code",
   "execution_count": 39,
   "id": "e8630cef",
   "metadata": {},
   "outputs": [
    {
     "data": {
      "text/plain": [
       "''"
      ]
     },
     "execution_count": 39,
     "metadata": {},
     "output_type": "execute_result"
    }
   ],
   "source": [
    "a[-1:-3]"
   ]
  },
  {
   "cell_type": "code",
   "execution_count": 40,
   "id": "46824b99",
   "metadata": {},
   "outputs": [
    {
     "data": {
      "text/plain": [
       "'ra'"
      ]
     },
     "execution_count": 40,
     "metadata": {},
     "output_type": "execute_result"
    }
   ],
   "source": [
    "a[-1:-3:-1]"
   ]
  },
  {
   "cell_type": "code",
   "execution_count": 41,
   "id": "8e19fb84",
   "metadata": {},
   "outputs": [
    {
     "data": {
      "text/plain": [
       "'kumar'"
      ]
     },
     "execution_count": 41,
     "metadata": {},
     "output_type": "execute_result"
    }
   ],
   "source": [
    "a[::]"
   ]
  },
  {
   "cell_type": "code",
   "execution_count": 42,
   "id": "2a3e355c",
   "metadata": {},
   "outputs": [
    {
     "data": {
      "text/plain": [
       "'kumar'"
      ]
     },
     "execution_count": 42,
     "metadata": {},
     "output_type": "execute_result"
    }
   ],
   "source": [
    "a[:8]"
   ]
  },
  {
   "cell_type": "code",
   "execution_count": 43,
   "id": "e64dc56a",
   "metadata": {},
   "outputs": [
    {
     "data": {
      "text/plain": [
       "'umar'"
      ]
     },
     "execution_count": 43,
     "metadata": {},
     "output_type": "execute_result"
    }
   ],
   "source": [
    "a[1:]"
   ]
  },
  {
   "cell_type": "code",
   "execution_count": 44,
   "id": "8c55381d",
   "metadata": {},
   "outputs": [
    {
     "data": {
      "text/plain": [
       "'ar'"
      ]
     },
     "execution_count": 44,
     "metadata": {},
     "output_type": "execute_result"
    }
   ],
   "source": [
    "a[-2:]"
   ]
  },
  {
   "cell_type": "code",
   "execution_count": 45,
   "id": "2ed0a971",
   "metadata": {},
   "outputs": [
    {
     "data": {
      "text/plain": [
       "'a'"
      ]
     },
     "execution_count": 45,
     "metadata": {},
     "output_type": "execute_result"
    }
   ],
   "source": [
    "a[-2:-1]"
   ]
  },
  {
   "cell_type": "code",
   "execution_count": 46,
   "id": "57614020",
   "metadata": {},
   "outputs": [
    {
     "data": {
      "text/plain": [
       "'ramuk'"
      ]
     },
     "execution_count": 46,
     "metadata": {},
     "output_type": "execute_result"
    }
   ],
   "source": [
    "a[::-1]"
   ]
  },
  {
   "cell_type": "code",
   "execution_count": 48,
   "id": "b4fc61da",
   "metadata": {},
   "outputs": [
    {
     "data": {
      "text/plain": [
       "'kumar'"
      ]
     },
     "execution_count": 48,
     "metadata": {},
     "output_type": "execute_result"
    }
   ],
   "source": [
    "a"
   ]
  },
  {
   "cell_type": "code",
   "execution_count": 54,
   "id": "0b09f004",
   "metadata": {},
   "outputs": [],
   "source": [
    "c = \"I am working with ineuron\""
   ]
  },
  {
   "cell_type": "code",
   "execution_count": 55,
   "id": "88705226",
   "metadata": {},
   "outputs": [
    {
     "data": {
      "text/plain": [
       "'norueni htiw gnikrow ma I'"
      ]
     },
     "execution_count": 55,
     "metadata": {},
     "output_type": "execute_result"
    }
   ],
   "source": [
    "c[::-1]"
   ]
  },
  {
   "cell_type": "code",
   "execution_count": 56,
   "id": "9edf8e91",
   "metadata": {},
   "outputs": [
    {
     "name": "stdout",
     "output_type": "stream",
     "text": [
      "Reversng a complete String\n"
     ]
    }
   ],
   "source": [
    "print(\"Reversng a complete String\")"
   ]
  },
  {
   "cell_type": "code",
   "execution_count": 57,
   "id": "2b06bf6c",
   "metadata": {},
   "outputs": [
    {
     "data": {
      "text/plain": [
       "'orueni h'"
      ]
     },
     "execution_count": 57,
     "metadata": {},
     "output_type": "execute_result"
    }
   ],
   "source": [
    "c[-2:-10:-1]"
   ]
  },
  {
   "cell_type": "code",
   "execution_count": 58,
   "id": "c909100d",
   "metadata": {},
   "outputs": [
    {
     "data": {
      "text/plain": [
       "'hemuhemuhemu'"
      ]
     },
     "execution_count": 58,
     "metadata": {},
     "output_type": "execute_result"
    }
   ],
   "source": [
    "'hemu'*3"
   ]
  },
  {
   "cell_type": "code",
   "execution_count": 59,
   "id": "4887035a",
   "metadata": {},
   "outputs": [
    {
     "data": {
      "text/plain": [
       "'hemkumar'"
      ]
     },
     "execution_count": 59,
     "metadata": {},
     "output_type": "execute_result"
    }
   ],
   "source": [
    "'hem'+\"kumar\""
   ]
  },
  {
   "cell_type": "code",
   "execution_count": 60,
   "id": "8efbde4c",
   "metadata": {},
   "outputs": [
    {
     "data": {
      "text/plain": [
       "25"
      ]
     },
     "execution_count": 60,
     "metadata": {},
     "output_type": "execute_result"
    }
   ],
   "source": [
    "len(c)"
   ]
  },
  {
   "cell_type": "code",
   "execution_count": 61,
   "id": "87dbdff5",
   "metadata": {},
   "outputs": [
    {
     "data": {
      "text/plain": [
       "'I am working with ineuron'"
      ]
     },
     "execution_count": 61,
     "metadata": {},
     "output_type": "execute_result"
    }
   ],
   "source": [
    "c"
   ]
  },
  {
   "cell_type": "code",
   "execution_count": 66,
   "id": "e97eb304",
   "metadata": {},
   "outputs": [
    {
     "data": {
      "text/plain": [
       "7"
      ]
     },
     "execution_count": 66,
     "metadata": {},
     "output_type": "execute_result"
    }
   ],
   "source": [
    "c.index('r')"
   ]
  },
  {
   "cell_type": "code",
   "execution_count": 68,
   "id": "8316cfbc",
   "metadata": {},
   "outputs": [
    {
     "data": {
      "text/plain": [
       "2"
      ]
     },
     "execution_count": 68,
     "metadata": {},
     "output_type": "execute_result"
    }
   ],
   "source": [
    "c.find('a')"
   ]
  },
  {
   "cell_type": "code",
   "execution_count": 71,
   "id": "aad027cf",
   "metadata": {},
   "outputs": [
    {
     "data": {
      "text/plain": [
       "0"
      ]
     },
     "execution_count": 71,
     "metadata": {},
     "output_type": "execute_result"
    }
   ],
   "source": [
    "c.find('I')"
   ]
  },
  {
   "cell_type": "code",
   "execution_count": 72,
   "id": "d936904b",
   "metadata": {},
   "outputs": [
    {
     "data": {
      "text/plain": [
       "-1"
      ]
     },
     "execution_count": 72,
     "metadata": {},
     "output_type": "execute_result"
    }
   ],
   "source": [
    "c.find(\"ia\")"
   ]
  },
  {
   "cell_type": "code",
   "execution_count": 73,
   "id": "a688649e",
   "metadata": {},
   "outputs": [
    {
     "name": "stdout",
     "output_type": "stream",
     "text": [
      "If that combination is not present it will return -1\n"
     ]
    }
   ],
   "source": [
    "print(\"If that combination is not present it will return -1\")"
   ]
  },
  {
   "cell_type": "code",
   "execution_count": 74,
   "id": "f2ce33b4",
   "metadata": {},
   "outputs": [
    {
     "data": {
      "text/plain": [
       "19"
      ]
     },
     "execution_count": 74,
     "metadata": {},
     "output_type": "execute_result"
    }
   ],
   "source": [
    "c.find(\"ne\")"
   ]
  },
  {
   "cell_type": "code",
   "execution_count": 75,
   "id": "435363fc",
   "metadata": {},
   "outputs": [
    {
     "data": {
      "text/plain": [
       "'n'"
      ]
     },
     "execution_count": 75,
     "metadata": {},
     "output_type": "execute_result"
    }
   ],
   "source": [
    "c[19]"
   ]
  },
  {
   "cell_type": "code",
   "execution_count": 76,
   "id": "dcecade1",
   "metadata": {},
   "outputs": [
    {
     "data": {
      "text/plain": [
       "3"
      ]
     },
     "execution_count": 76,
     "metadata": {},
     "output_type": "execute_result"
    }
   ],
   "source": [
    "c.count(\"i\")"
   ]
  },
  {
   "cell_type": "code",
   "execution_count": 78,
   "id": "3a76da49",
   "metadata": {},
   "outputs": [
    {
     "data": {
      "text/plain": [
       "0"
      ]
     },
     "execution_count": 78,
     "metadata": {},
     "output_type": "execute_result"
    }
   ],
   "source": [
    "c.count('x')"
   ]
  },
  {
   "cell_type": "code",
   "execution_count": 82,
   "id": "90daf7b1",
   "metadata": {},
   "outputs": [],
   "source": [
    "L = c.split()"
   ]
  },
  {
   "cell_type": "code",
   "execution_count": 83,
   "id": "907148fb",
   "metadata": {},
   "outputs": [
    {
     "name": "stdout",
     "output_type": "stream",
     "text": [
      "the above one a list\n"
     ]
    }
   ],
   "source": [
    "print(\"the above one a list\")"
   ]
  },
  {
   "cell_type": "code",
   "execution_count": 84,
   "id": "d8fc9de0",
   "metadata": {},
   "outputs": [
    {
     "data": {
      "text/plain": [
       "['I', 'am', 'working', 'with', 'ineuron']"
      ]
     },
     "execution_count": 84,
     "metadata": {},
     "output_type": "execute_result"
    }
   ],
   "source": [
    "L"
   ]
  },
  {
   "cell_type": "code",
   "execution_count": 85,
   "id": "0a8585cf",
   "metadata": {},
   "outputs": [
    {
     "name": "stdout",
     "output_type": "stream",
     "text": [
      "Index ceoncept is the same for the List\n"
     ]
    }
   ],
   "source": [
    "print('Index ceoncept is the same for the List')"
   ]
  },
  {
   "cell_type": "code",
   "execution_count": 86,
   "id": "b1caab82",
   "metadata": {},
   "outputs": [
    {
     "data": {
      "text/plain": [
       "'I'"
      ]
     },
     "execution_count": 86,
     "metadata": {},
     "output_type": "execute_result"
    }
   ],
   "source": [
    "L[0]"
   ]
  },
  {
   "cell_type": "code",
   "execution_count": 87,
   "id": "76b7bff8",
   "metadata": {},
   "outputs": [
    {
     "data": {
      "text/plain": [
       "'am'"
      ]
     },
     "execution_count": 87,
     "metadata": {},
     "output_type": "execute_result"
    }
   ],
   "source": [
    "L[1]"
   ]
  },
  {
   "cell_type": "code",
   "execution_count": 88,
   "id": "9b5d106b",
   "metadata": {},
   "outputs": [
    {
     "data": {
      "text/plain": [
       "'ineuron'"
      ]
     },
     "execution_count": 88,
     "metadata": {},
     "output_type": "execute_result"
    }
   ],
   "source": [
    "L[-1]"
   ]
  },
  {
   "cell_type": "code",
   "execution_count": 89,
   "id": "b259e5fe",
   "metadata": {},
   "outputs": [
    {
     "data": {
      "text/plain": [
       "['I', 'am']"
      ]
     },
     "execution_count": 89,
     "metadata": {},
     "output_type": "execute_result"
    }
   ],
   "source": [
    "L[0:2]"
   ]
  },
  {
   "cell_type": "code",
   "execution_count": 90,
   "id": "5601ded3",
   "metadata": {},
   "outputs": [
    {
     "data": {
      "text/plain": [
       "['I am ', 'orking ', 'ith ineuron']"
      ]
     },
     "execution_count": 90,
     "metadata": {},
     "output_type": "execute_result"
    }
   ],
   "source": [
    "c.split('w')"
   ]
  },
  {
   "cell_type": "code",
   "execution_count": 95,
   "id": "d7d60855",
   "metadata": {},
   "outputs": [
    {
     "name": "stdout",
     "output_type": "stream",
     "text": [
      "It will split with some letter\n"
     ]
    }
   ],
   "source": [
    "print(\"It will split with some letter\")"
   ]
  },
  {
   "cell_type": "code",
   "execution_count": 96,
   "id": "053f4dad",
   "metadata": {},
   "outputs": [
    {
     "data": {
      "text/plain": [
       "'I am working with ineuron'"
      ]
     },
     "execution_count": 96,
     "metadata": {},
     "output_type": "execute_result"
    }
   ],
   "source": [
    "c"
   ]
  },
  {
   "cell_type": "code",
   "execution_count": 97,
   "id": "9b047757",
   "metadata": {},
   "outputs": [
    {
     "data": {
      "text/plain": [
       "['I am ', 'rking with ineuron']"
      ]
     },
     "execution_count": 97,
     "metadata": {},
     "output_type": "execute_result"
    }
   ],
   "source": [
    "c.split('wo')"
   ]
  },
  {
   "cell_type": "code",
   "execution_count": 98,
   "id": "203f1d5b",
   "metadata": {},
   "outputs": [
    {
     "data": {
      "text/plain": [
       "'KUMAR'"
      ]
     },
     "execution_count": 98,
     "metadata": {},
     "output_type": "execute_result"
    }
   ],
   "source": [
    "a.upper()"
   ]
  },
  {
   "cell_type": "code",
   "execution_count": 99,
   "id": "f355dfff",
   "metadata": {},
   "outputs": [
    {
     "data": {
      "text/plain": [
       "'I AM WORKING WITH INEURON'"
      ]
     },
     "execution_count": 99,
     "metadata": {},
     "output_type": "execute_result"
    }
   ],
   "source": [
    "c.upper()"
   ]
  },
  {
   "cell_type": "code",
   "execution_count": 100,
   "id": "b2fdbfdc",
   "metadata": {},
   "outputs": [],
   "source": [
    "H = 'hEmu'"
   ]
  },
  {
   "cell_type": "code",
   "execution_count": 101,
   "id": "d2a3a71b",
   "metadata": {},
   "outputs": [
    {
     "data": {
      "text/plain": [
       "'HeMU'"
      ]
     },
     "execution_count": 101,
     "metadata": {},
     "output_type": "execute_result"
    }
   ],
   "source": [
    "H.swapcase()"
   ]
  },
  {
   "cell_type": "code",
   "execution_count": 102,
   "id": "77b7919f",
   "metadata": {},
   "outputs": [
    {
     "data": {
      "text/plain": [
       "'Hemu'"
      ]
     },
     "execution_count": 102,
     "metadata": {},
     "output_type": "execute_result"
    }
   ],
   "source": [
    "H.title()"
   ]
  },
  {
   "cell_type": "code",
   "execution_count": 103,
   "id": "141068f4",
   "metadata": {},
   "outputs": [],
   "source": [
    "G='ganga'\n",
    "J='jabili'"
   ]
  },
  {
   "cell_type": "code",
   "execution_count": 104,
   "id": "b0d516c7",
   "metadata": {},
   "outputs": [
    {
     "data": {
      "text/plain": [
       "'jgangaagangabgangaigangalgangai'"
      ]
     },
     "execution_count": 104,
     "metadata": {},
     "output_type": "execute_result"
    }
   ],
   "source": [
    "G.join(J)"
   ]
  },
  {
   "cell_type": "code",
   "execution_count": 105,
   "id": "1f715004",
   "metadata": {},
   "outputs": [
    {
     "data": {
      "text/plain": [
       "'h e m u'"
      ]
     },
     "execution_count": 105,
     "metadata": {},
     "output_type": "execute_result"
    }
   ],
   "source": [
    "' '.join('hemu')"
   ]
  },
  {
   "cell_type": "code",
   "execution_count": 107,
   "id": "220727cd",
   "metadata": {},
   "outputs": [
    {
     "name": "stdout",
     "output_type": "stream",
     "text": [
      "h\n",
      "t\n",
      "n\n",
      "a\n",
      "m\n",
      "e\n",
      "h\n"
     ]
    }
   ],
   "source": [
    "for i in reversed(\"hemanth\"):\n",
    "    print(i)"
   ]
  },
  {
   "cell_type": "code",
   "execution_count": 108,
   "id": "2bf7d79e",
   "metadata": {},
   "outputs": [
    {
     "data": {
      "text/plain": [
       "'agnag'"
      ]
     },
     "execution_count": 108,
     "metadata": {},
     "output_type": "execute_result"
    }
   ],
   "source": [
    "G[::-1]"
   ]
  },
  {
   "cell_type": "code",
   "execution_count": 111,
   "id": "82ce171a",
   "metadata": {},
   "outputs": [],
   "source": [
    "I = ' incubator '"
   ]
  },
  {
   "cell_type": "code",
   "execution_count": 113,
   "id": "ddc76596",
   "metadata": {},
   "outputs": [
    {
     "data": {
      "text/plain": [
       "' incubator'"
      ]
     },
     "execution_count": 113,
     "metadata": {},
     "output_type": "execute_result"
    }
   ],
   "source": [
    "I.rstrip()"
   ]
  },
  {
   "cell_type": "code",
   "execution_count": 114,
   "id": "f15fc1da",
   "metadata": {},
   "outputs": [
    {
     "data": {
      "text/plain": [
       "'incubator'"
      ]
     },
     "execution_count": 114,
     "metadata": {},
     "output_type": "execute_result"
    }
   ],
   "source": [
    "I.strip()"
   ]
  },
  {
   "cell_type": "code",
   "execution_count": 115,
   "id": "30e176a2",
   "metadata": {},
   "outputs": [
    {
     "data": {
      "text/plain": [
       "'incubator '"
      ]
     },
     "execution_count": 115,
     "metadata": {},
     "output_type": "execute_result"
    }
   ],
   "source": [
    "I.lstrip()"
   ]
  },
  {
   "cell_type": "code",
   "execution_count": 116,
   "id": "bf86e6fa",
   "metadata": {},
   "outputs": [
    {
     "data": {
      "text/plain": [
       "' incxyzbator '"
      ]
     },
     "execution_count": 116,
     "metadata": {},
     "output_type": "execute_result"
    }
   ],
   "source": [
    "I.replace('u','xyz')"
   ]
  },
  {
   "cell_type": "code",
   "execution_count": 117,
   "id": "94d27c15",
   "metadata": {},
   "outputs": [
    {
     "data": {
      "text/plain": [
       "'Hemanth Kumar'"
      ]
     },
     "execution_count": 117,
     "metadata": {},
     "output_type": "execute_result"
    }
   ],
   "source": [
    "'Hemanth\\tKumar'.expandtabs()"
   ]
  },
  {
   "cell_type": "code",
   "execution_count": 118,
   "id": "51944400",
   "metadata": {},
   "outputs": [
    {
     "data": {
      "text/plain": [
       "'tttttttttttttt incubator ttttttttttttttt'"
      ]
     },
     "execution_count": 118,
     "metadata": {},
     "output_type": "execute_result"
    }
   ],
   "source": [
    "I.center(40,'t')"
   ]
  },
  {
   "cell_type": "code",
   "execution_count": 120,
   "id": "8ad0d56d",
   "metadata": {},
   "outputs": [
    {
     "data": {
      "text/plain": [
       "False"
      ]
     },
     "execution_count": 120,
     "metadata": {},
     "output_type": "execute_result"
    }
   ],
   "source": [
    "I.isupper()"
   ]
  },
  {
   "cell_type": "code",
   "execution_count": 121,
   "id": "0bdc8c52",
   "metadata": {},
   "outputs": [
    {
     "data": {
      "text/plain": [
       "False"
      ]
     },
     "execution_count": 121,
     "metadata": {},
     "output_type": "execute_result"
    }
   ],
   "source": [
    "I.isspace()"
   ]
  },
  {
   "cell_type": "code",
   "execution_count": 122,
   "id": "565a44dd",
   "metadata": {},
   "outputs": [
    {
     "data": {
      "text/plain": [
       "False"
      ]
     },
     "execution_count": 122,
     "metadata": {},
     "output_type": "execute_result"
    }
   ],
   "source": [
    "I.isdigit()"
   ]
  },
  {
   "cell_type": "code",
   "execution_count": 125,
   "id": "354081ba",
   "metadata": {},
   "outputs": [
    {
     "data": {
      "text/plain": [
       "True"
      ]
     },
     "execution_count": 125,
     "metadata": {},
     "output_type": "execute_result"
    }
   ],
   "source": [
    "I.endswith(' ')"
   ]
  },
  {
   "cell_type": "code",
   "execution_count": 126,
   "id": "b0835a08",
   "metadata": {},
   "outputs": [
    {
     "data": {
      "text/plain": [
       "True"
      ]
     },
     "execution_count": 126,
     "metadata": {},
     "output_type": "execute_result"
    }
   ],
   "source": [
    "I.endswith(\"r \")"
   ]
  },
  {
   "cell_type": "code",
   "execution_count": 129,
   "id": "b8186b8e",
   "metadata": {},
   "outputs": [
    {
     "data": {
      "text/plain": [
       "True"
      ]
     },
     "execution_count": 129,
     "metadata": {},
     "output_type": "execute_result"
    }
   ],
   "source": [
    "I.startswith(' i')"
   ]
  },
  {
   "cell_type": "code",
   "execution_count": 130,
   "id": "11c68a84",
   "metadata": {},
   "outputs": [],
   "source": [
    "Z = ['hemanth', 'kumar', 345, 2+2j, True, 123.12]"
   ]
  },
  {
   "cell_type": "code",
   "execution_count": 131,
   "id": "4cd4aefd",
   "metadata": {},
   "outputs": [
    {
     "data": {
      "text/plain": [
       "list"
      ]
     },
     "execution_count": 131,
     "metadata": {},
     "output_type": "execute_result"
    }
   ],
   "source": [
    "type(Z)"
   ]
  },
  {
   "cell_type": "code",
   "execution_count": 132,
   "id": "4875240c",
   "metadata": {},
   "outputs": [
    {
     "data": {
      "text/plain": [
       "'hemanth'"
      ]
     },
     "execution_count": 132,
     "metadata": {},
     "output_type": "execute_result"
    }
   ],
   "source": [
    "Z[0]"
   ]
  },
  {
   "cell_type": "code",
   "execution_count": 133,
   "id": "48fecb73",
   "metadata": {},
   "outputs": [
    {
     "data": {
      "text/plain": [
       "123.12"
      ]
     },
     "execution_count": 133,
     "metadata": {},
     "output_type": "execute_result"
    }
   ],
   "source": [
    "Z[-1]"
   ]
  },
  {
   "cell_type": "code",
   "execution_count": 134,
   "id": "2e2e23d8",
   "metadata": {},
   "outputs": [
    {
     "data": {
      "text/plain": [
       "['hemanth', 'kumar', 345, (2+2j)]"
      ]
     },
     "execution_count": 134,
     "metadata": {},
     "output_type": "execute_result"
    }
   ],
   "source": [
    "Z[0:4]"
   ]
  },
  {
   "cell_type": "code",
   "execution_count": 135,
   "id": "5aa24d30",
   "metadata": {},
   "outputs": [
    {
     "data": {
      "text/plain": [
       "[123.12, True, (2+2j), 345, 'kumar', 'hemanth']"
      ]
     },
     "execution_count": 135,
     "metadata": {},
     "output_type": "execute_result"
    }
   ],
   "source": [
    "Z[::-1]"
   ]
  },
  {
   "cell_type": "code",
   "execution_count": 136,
   "id": "9ee1bae2",
   "metadata": {},
   "outputs": [
    {
     "data": {
      "text/plain": [
       "[123.12]"
      ]
     },
     "execution_count": 136,
     "metadata": {},
     "output_type": "execute_result"
    }
   ],
   "source": [
    "Z[-1:6]"
   ]
  },
  {
   "cell_type": "code",
   "execution_count": 137,
   "id": "e30db777",
   "metadata": {},
   "outputs": [
    {
     "data": {
      "text/plain": [
       "'e'"
      ]
     },
     "execution_count": 137,
     "metadata": {},
     "output_type": "execute_result"
    }
   ],
   "source": [
    "Z[0][1]"
   ]
  },
  {
   "cell_type": "code",
   "execution_count": 140,
   "id": "0eacc464",
   "metadata": {},
   "outputs": [
    {
     "data": {
      "text/plain": [
       "2.0"
      ]
     },
     "execution_count": 140,
     "metadata": {},
     "output_type": "execute_result"
    }
   ],
   "source": [
    "Z[3].real"
   ]
  },
  {
   "cell_type": "code",
   "execution_count": 141,
   "id": "b976e268",
   "metadata": {},
   "outputs": [],
   "source": [
    "L1= ['hemu', 1, 'kumar']\n",
    "L2 = ['SIR', 2, 'NICHENAMETLA']"
   ]
  },
  {
   "cell_type": "code",
   "execution_count": 142,
   "id": "c7ad8a02",
   "metadata": {},
   "outputs": [
    {
     "data": {
      "text/plain": [
       "['hemu', 1, 'kumar', 'SIR', 2, 'NICHENAMETLA']"
      ]
     },
     "execution_count": 142,
     "metadata": {},
     "output_type": "execute_result"
    }
   ],
   "source": [
    "L1+L2"
   ]
  },
  {
   "cell_type": "code",
   "execution_count": 143,
   "id": "aa2a41f1",
   "metadata": {},
   "outputs": [
    {
     "ename": "TypeError",
     "evalue": "can only concatenate list (not \"str\") to list",
     "output_type": "error",
     "traceback": [
      "\u001b[1;31m---------------------------------------------------------------------------\u001b[0m",
      "\u001b[1;31mTypeError\u001b[0m                                 Traceback (most recent call last)",
      "\u001b[1;32m~\\AppData\\Local\\Temp/ipykernel_17592/3545583688.py\u001b[0m in \u001b[0;36m<module>\u001b[1;34m\u001b[0m\n\u001b[1;32m----> 1\u001b[1;33m \u001b[0mL1\u001b[0m \u001b[1;33m+\u001b[0m \u001b[1;34m'SUDH'\u001b[0m\u001b[1;33m\u001b[0m\u001b[1;33m\u001b[0m\u001b[0m\n\u001b[0m",
      "\u001b[1;31mTypeError\u001b[0m: can only concatenate list (not \"str\") to list"
     ]
    }
   ],
   "source": [
    "L1 + 'SUDH'"
   ]
  },
  {
   "cell_type": "code",
   "execution_count": 144,
   "id": "631444bf",
   "metadata": {},
   "outputs": [
    {
     "data": {
      "text/plain": [
       "['hemu', 1, 'kumar', 'SUDH']"
      ]
     },
     "execution_count": 144,
     "metadata": {},
     "output_type": "execute_result"
    }
   ],
   "source": [
    "L1 + ['SUDH']"
   ]
  },
  {
   "cell_type": "code",
   "execution_count": 145,
   "id": "77b1d7ee",
   "metadata": {},
   "outputs": [
    {
     "data": {
      "text/plain": [
       "['hemu',\n",
       " 1,\n",
       " 'kumar',\n",
       " 'hemu',\n",
       " 1,\n",
       " 'kumar',\n",
       " 'hemu',\n",
       " 1,\n",
       " 'kumar',\n",
       " 'hemu',\n",
       " 1,\n",
       " 'kumar']"
      ]
     },
     "execution_count": 145,
     "metadata": {},
     "output_type": "execute_result"
    }
   ],
   "source": [
    "L1*4"
   ]
  },
  {
   "cell_type": "code",
   "execution_count": 146,
   "id": "f3d87fc8",
   "metadata": {},
   "outputs": [],
   "source": [
    "L1[0] = 1234567"
   ]
  },
  {
   "cell_type": "code",
   "execution_count": 147,
   "id": "a5981af8",
   "metadata": {},
   "outputs": [
    {
     "data": {
      "text/plain": [
       "[1234567, 1, 'kumar']"
      ]
     },
     "execution_count": 147,
     "metadata": {},
     "output_type": "execute_result"
    }
   ],
   "source": [
    "L1"
   ]
  },
  {
   "cell_type": "code",
   "execution_count": 149,
   "id": "12389c88",
   "metadata": {},
   "outputs": [
    {
     "ename": "TypeError",
     "evalue": "'str' object does not support item assignment",
     "output_type": "error",
     "traceback": [
      "\u001b[1;31m---------------------------------------------------------------------------\u001b[0m",
      "\u001b[1;31mTypeError\u001b[0m                                 Traceback (most recent call last)",
      "\u001b[1;32m~\\AppData\\Local\\Temp/ipykernel_17592/2071058148.py\u001b[0m in \u001b[0;36m<module>\u001b[1;34m\u001b[0m\n\u001b[1;32m----> 1\u001b[1;33m \u001b[0mL1\u001b[0m\u001b[1;33m[\u001b[0m\u001b[1;36m2\u001b[0m\u001b[1;33m]\u001b[0m\u001b[1;33m[\u001b[0m\u001b[1;36m0\u001b[0m\u001b[1;33m]\u001b[0m \u001b[1;33m=\u001b[0m \u001b[1;34m\"S\"\u001b[0m\u001b[1;33m\u001b[0m\u001b[1;33m\u001b[0m\u001b[0m\n\u001b[0m",
      "\u001b[1;31mTypeError\u001b[0m: 'str' object does not support item assignment"
     ]
    }
   ],
   "source": [
    "L1[2][0] = \"S\""
   ]
  },
  {
   "cell_type": "code",
   "execution_count": 150,
   "id": "65f50bf1",
   "metadata": {},
   "outputs": [],
   "source": [
    "L1[2]= 'S'"
   ]
  },
  {
   "cell_type": "code",
   "execution_count": 151,
   "id": "a46c56ae",
   "metadata": {},
   "outputs": [
    {
     "data": {
      "text/plain": [
       "[1234567, 1, 'S']"
      ]
     },
     "execution_count": 151,
     "metadata": {},
     "output_type": "execute_result"
    }
   ],
   "source": [
    "L1"
   ]
  },
  {
   "cell_type": "code",
   "execution_count": 152,
   "id": "af4fd501",
   "metadata": {},
   "outputs": [
    {
     "name": "stdout",
     "output_type": "stream",
     "text": [
      "string is an immutable entity\n"
     ]
    }
   ],
   "source": [
    "print('string is an immutable entity')"
   ]
  },
  {
   "cell_type": "code",
   "execution_count": 153,
   "id": "28f949e6",
   "metadata": {},
   "outputs": [],
   "source": [
    "S = 'SUDH'"
   ]
  },
  {
   "cell_type": "code",
   "execution_count": 154,
   "id": "b224f030",
   "metadata": {},
   "outputs": [
    {
     "ename": "TypeError",
     "evalue": "'str' object does not support item assignment",
     "output_type": "error",
     "traceback": [
      "\u001b[1;31m---------------------------------------------------------------------------\u001b[0m",
      "\u001b[1;31mTypeError\u001b[0m                                 Traceback (most recent call last)",
      "\u001b[1;32m~\\AppData\\Local\\Temp/ipykernel_17592/2426163001.py\u001b[0m in \u001b[0;36m<module>\u001b[1;34m\u001b[0m\n\u001b[1;32m----> 1\u001b[1;33m \u001b[0mS\u001b[0m\u001b[1;33m[\u001b[0m\u001b[1;36m0\u001b[0m\u001b[1;33m]\u001b[0m \u001b[1;33m=\u001b[0m \u001b[1;34m'V'\u001b[0m\u001b[1;33m\u001b[0m\u001b[1;33m\u001b[0m\u001b[0m\n\u001b[0m",
      "\u001b[1;31mTypeError\u001b[0m: 'str' object does not support item assignment"
     ]
    }
   ],
   "source": [
    "S[0] = 'V'"
   ]
  },
  {
   "cell_type": "code",
   "execution_count": 155,
   "id": "ee46533f",
   "metadata": {},
   "outputs": [
    {
     "data": {
      "text/plain": [
       "['SIR', 2, 'NICHENAMETLA']"
      ]
     },
     "execution_count": 155,
     "metadata": {},
     "output_type": "execute_result"
    }
   ],
   "source": [
    "L2"
   ]
  },
  {
   "cell_type": "code",
   "execution_count": 157,
   "id": "90e27f7d",
   "metadata": {},
   "outputs": [],
   "source": [
    "L2.append('sudh')"
   ]
  },
  {
   "cell_type": "code",
   "execution_count": 158,
   "id": "f1cc9a78",
   "metadata": {},
   "outputs": [
    {
     "data": {
      "text/plain": [
       "['SIR', 2, 'NICHENAMETLA', 'sudh']"
      ]
     },
     "execution_count": 158,
     "metadata": {},
     "output_type": "execute_result"
    }
   ],
   "source": [
    "L2"
   ]
  },
  {
   "cell_type": "code",
   "execution_count": 159,
   "id": "06bcb2f5",
   "metadata": {},
   "outputs": [
    {
     "data": {
      "text/plain": [
       "'sudh'"
      ]
     },
     "execution_count": 159,
     "metadata": {},
     "output_type": "execute_result"
    }
   ],
   "source": [
    "L2.pop()"
   ]
  },
  {
   "cell_type": "code",
   "execution_count": 160,
   "id": "934839e5",
   "metadata": {},
   "outputs": [
    {
     "data": {
      "text/plain": [
       "['SIR', 2, 'NICHENAMETLA']"
      ]
     },
     "execution_count": 160,
     "metadata": {},
     "output_type": "execute_result"
    }
   ],
   "source": [
    "L2"
   ]
  },
  {
   "cell_type": "code",
   "execution_count": 162,
   "id": "a47eab47",
   "metadata": {},
   "outputs": [
    {
     "data": {
      "text/plain": [
       "'NICHENAMETLA'"
      ]
     },
     "execution_count": 162,
     "metadata": {},
     "output_type": "execute_result"
    }
   ],
   "source": [
    "L2.pop(2)"
   ]
  },
  {
   "cell_type": "code",
   "execution_count": 163,
   "id": "ab51b8e6",
   "metadata": {},
   "outputs": [
    {
     "data": {
      "text/plain": [
       "['SIR', 2]"
      ]
     },
     "execution_count": 163,
     "metadata": {},
     "output_type": "execute_result"
    }
   ],
   "source": [
    "L2"
   ]
  },
  {
   "cell_type": "code",
   "execution_count": 164,
   "id": "af299bcc",
   "metadata": {},
   "outputs": [
    {
     "data": {
      "text/plain": [
       "['SIR', 2]"
      ]
     },
     "execution_count": 164,
     "metadata": {},
     "output_type": "execute_result"
    }
   ],
   "source": [
    "L2"
   ]
  },
  {
   "cell_type": "code",
   "execution_count": 165,
   "id": "9bbaa9fb",
   "metadata": {},
   "outputs": [],
   "source": [
    "L2.insert(1,'kumar')"
   ]
  },
  {
   "cell_type": "code",
   "execution_count": 166,
   "id": "f4c31ef4",
   "metadata": {},
   "outputs": [
    {
     "data": {
      "text/plain": [
       "['SIR', 'kumar', 2]"
      ]
     },
     "execution_count": 166,
     "metadata": {},
     "output_type": "execute_result"
    }
   ],
   "source": [
    "L2"
   ]
  },
  {
   "cell_type": "code",
   "execution_count": 167,
   "id": "fff13c9b",
   "metadata": {},
   "outputs": [],
   "source": [
    "L2.insert(3,[1,'NHK', 1.2])"
   ]
  },
  {
   "cell_type": "code",
   "execution_count": 168,
   "id": "6f898d05",
   "metadata": {},
   "outputs": [
    {
     "data": {
      "text/plain": [
       "['SIR', 'kumar', 2, [1, 'NHK', 1.2]]"
      ]
     },
     "execution_count": 168,
     "metadata": {},
     "output_type": "execute_result"
    }
   ],
   "source": [
    "L2"
   ]
  },
  {
   "cell_type": "code",
   "execution_count": 169,
   "id": "2e261a8a",
   "metadata": {},
   "outputs": [
    {
     "data": {
      "text/plain": [
       "[[1, 'NHK', 1.2], 2, 'kumar', 'SIR']"
      ]
     },
     "execution_count": 169,
     "metadata": {},
     "output_type": "execute_result"
    }
   ],
   "source": [
    "L2[::-1]"
   ]
  },
  {
   "cell_type": "code",
   "execution_count": 170,
   "id": "8e4771fb",
   "metadata": {},
   "outputs": [],
   "source": [
    "L2.reverse()"
   ]
  },
  {
   "cell_type": "code",
   "execution_count": 171,
   "id": "045d9572",
   "metadata": {},
   "outputs": [
    {
     "data": {
      "text/plain": [
       "[[1, 'NHK', 1.2], 2, 'kumar', 'SIR']"
      ]
     },
     "execution_count": 171,
     "metadata": {},
     "output_type": "execute_result"
    }
   ],
   "source": [
    "L2"
   ]
  },
  {
   "cell_type": "code",
   "execution_count": 173,
   "id": "3750a6f8",
   "metadata": {},
   "outputs": [],
   "source": [
    "L2.reverse()"
   ]
  },
  {
   "cell_type": "markdown",
   "id": "21ccd85f",
   "metadata": {},
   "source": [
    "L2"
   ]
  },
  {
   "cell_type": "code",
   "execution_count": 174,
   "id": "10e9f0b4",
   "metadata": {},
   "outputs": [
    {
     "data": {
      "text/plain": [
       "['SIR', 'kumar', 2, [1, 'NHK', 1.2]]"
      ]
     },
     "execution_count": 174,
     "metadata": {},
     "output_type": "execute_result"
    }
   ],
   "source": [
    "L2"
   ]
  },
  {
   "cell_type": "code",
   "execution_count": 175,
   "id": "5e09e81e",
   "metadata": {},
   "outputs": [
    {
     "data": {
      "text/plain": [
       "[1234567, 1, 'S']"
      ]
     },
     "execution_count": 175,
     "metadata": {},
     "output_type": "execute_result"
    }
   ],
   "source": [
    "L1"
   ]
  },
  {
   "cell_type": "code",
   "execution_count": 176,
   "id": "d29f6e1f",
   "metadata": {},
   "outputs": [
    {
     "data": {
      "text/plain": [
       "['SIR', 'kumar', 2, [1, 'NHK', 1.2]]"
      ]
     },
     "execution_count": 176,
     "metadata": {},
     "output_type": "execute_result"
    }
   ],
   "source": [
    "L2"
   ]
  },
  {
   "cell_type": "code",
   "execution_count": 177,
   "id": "88bfa0e6",
   "metadata": {},
   "outputs": [
    {
     "data": {
      "text/plain": [
       "'NHK'"
      ]
     },
     "execution_count": 177,
     "metadata": {},
     "output_type": "execute_result"
    }
   ],
   "source": [
    "L2[3][1]"
   ]
  },
  {
   "cell_type": "code",
   "execution_count": 178,
   "id": "b7bd266d",
   "metadata": {},
   "outputs": [],
   "source": [
    "L2.append([1,2,4,6])"
   ]
  },
  {
   "cell_type": "code",
   "execution_count": 179,
   "id": "5c16f05c",
   "metadata": {},
   "outputs": [
    {
     "data": {
      "text/plain": [
       "['SIR', 'kumar', 2, [1, 'NHK', 1.2], [1, 2, 4, 6]]"
      ]
     },
     "execution_count": 179,
     "metadata": {},
     "output_type": "execute_result"
    }
   ],
   "source": [
    "L2"
   ]
  },
  {
   "cell_type": "code",
   "execution_count": 180,
   "id": "e361bd0e",
   "metadata": {},
   "outputs": [],
   "source": [
    "L2.extend([123,456,'hemanth'])"
   ]
  },
  {
   "cell_type": "code",
   "execution_count": 188,
   "id": "b245dd35",
   "metadata": {},
   "outputs": [
    {
     "name": "stdout",
     "output_type": "stream",
     "text": [
      "append will append it at the end and extend will extend the list after unwraping it \n"
     ]
    }
   ],
   "source": [
    "print('append will append it at the end and extend will extend the list after unwraping it ')"
   ]
  },
  {
   "cell_type": "code",
   "execution_count": 193,
   "id": "70742a94",
   "metadata": {},
   "outputs": [
    {
     "data": {
      "text/plain": [
       "['SIR', 'kumar', 2, [1, 'NHK', 1.2], [1, 2, 4, 6], 123, 456, 'hemanth']"
      ]
     },
     "execution_count": 193,
     "metadata": {},
     "output_type": "execute_result"
    }
   ],
   "source": [
    "L2"
   ]
  },
  {
   "cell_type": "code",
   "execution_count": 200,
   "id": "bcfd1945",
   "metadata": {},
   "outputs": [
    {
     "data": {
      "text/plain": [
       "[123]"
      ]
     },
     "execution_count": 200,
     "metadata": {},
     "output_type": "execute_result"
    }
   ],
   "source": [
    "L2[-3:6]"
   ]
  },
  {
   "cell_type": "code",
   "execution_count": 197,
   "id": "5fe3615d",
   "metadata": {},
   "outputs": [
    {
     "data": {
      "text/plain": [
       "[456, 'hemanth']"
      ]
     },
     "execution_count": 197,
     "metadata": {},
     "output_type": "execute_result"
    }
   ],
   "source": [
    "L2[-2:10]"
   ]
  },
  {
   "cell_type": "code",
   "execution_count": 196,
   "id": "cedb49a6",
   "metadata": {},
   "outputs": [
    {
     "data": {
      "text/plain": [
       "[]"
      ]
     },
     "execution_count": 196,
     "metadata": {},
     "output_type": "execute_result"
    }
   ],
   "source": [
    "L2[0:100:-1]"
   ]
  },
  {
   "cell_type": "code",
   "execution_count": null,
   "id": "1f177e4e",
   "metadata": {},
   "outputs": [],
   "source": []
  }
 ],
 "metadata": {
  "kernelspec": {
   "display_name": "Python 3 (ipykernel)",
   "language": "python",
   "name": "python3"
  },
  "language_info": {
   "codemirror_mode": {
    "name": "ipython",
    "version": 3
   },
   "file_extension": ".py",
   "mimetype": "text/x-python",
   "name": "python",
   "nbconvert_exporter": "python",
   "pygments_lexer": "ipython3",
   "version": "3.9.7"
  }
 },
 "nbformat": 4,
 "nbformat_minor": 5
}
