{
 "cells": [
  {
   "cell_type": "code",
   "execution_count": 3,
   "id": "e68bf32d",
   "metadata": {},
   "outputs": [],
   "source": [
    "# If Else conditions\n",
    "# Every condition(if, else, for....) will be included a Colon \":\" in it.\n",
    "# In any condition, If you don't want to do anything just give a \"pass\". (29) \n",
    "# Giving input by the user and conditions. (43)\n",
    "# Always input() function will be in a string format. It can be converted into other formats like int... if needed.\n",
    "# and keyword is used for and operator (52)\n",
    "# if statement can be written in a single line. But, it is not advisable to use a single line. (53)\n",
    "# Nested if is used it was a kind of hirarchy used. (2)\n",
    "# single equal to is used for assignment operatopr. And, Double equal to is used for comparision operator.\n",
    "# if .... elif.... else\n",
    "# For loop\n",
    "# Segregating only integers from a big size list with all formats. (24) \n",
    "# For else statement\n",
    "# Try to print the index of all the elements in a list. \n",
    "# Range function (48) (53)\n",
    "# Enumerate is a inbuilt function that will generate tuples which contains index and the element in the list"
   ]
  },
  {
   "cell_type": "code",
   "execution_count": null,
   "id": "35361258",
   "metadata": {},
   "outputs": [],
   "source": [
    "# if.. elif... else"
   ]
  },
  {
   "cell_type": "code",
   "execution_count": 32,
   "id": "03266d6c",
   "metadata": {},
   "outputs": [],
   "source": [
    "a = 16"
   ]
  },
  {
   "cell_type": "code",
   "execution_count": 33,
   "id": "bf9c680e",
   "metadata": {},
   "outputs": [
    {
     "name": "stdout",
     "output_type": "stream",
     "text": [
      "hello\n"
     ]
    }
   ],
   "source": [
    "if a < 15:\n",
    "    print(\"hi\")\n",
    "else:\n",
    "    print(\"hello\")"
   ]
  },
  {
   "cell_type": "code",
   "execution_count": 34,
   "id": "6c3502fb",
   "metadata": {},
   "outputs": [],
   "source": [
    "b = 10"
   ]
  },
  {
   "cell_type": "code",
   "execution_count": 35,
   "id": "b95b387e",
   "metadata": {},
   "outputs": [],
   "source": [
    "if b < 6:\n",
    "    pass"
   ]
  },
  {
   "cell_type": "code",
   "execution_count": 37,
   "id": "2fd477c6",
   "metadata": {},
   "outputs": [
    {
     "name": "stdout",
     "output_type": "stream",
     "text": [
      "My name is hemanth\n"
     ]
    }
   ],
   "source": [
    "c = 10\n",
    "if c < 15:\n",
    "    print(\"My name is hemanth\")"
   ]
  },
  {
   "cell_type": "code",
   "execution_count": 38,
   "id": "359f81bb",
   "metadata": {},
   "outputs": [
    {
     "name": "stdout",
     "output_type": "stream",
     "text": [
      "My name is hemanth\n"
     ]
    }
   ],
   "source": [
    "if 10 < 15:\n",
    "    print(\"My name is hemanth\")"
   ]
  },
  {
   "cell_type": "code",
   "execution_count": 39,
   "id": "e105437d",
   "metadata": {},
   "outputs": [
    {
     "name": "stdout",
     "output_type": "stream",
     "text": [
      "the above statement is wrong\n"
     ]
    }
   ],
   "source": [
    "if 10 < 3 :\n",
    "    print(\"10 is less than 3\")\n",
    "else :\n",
    "    print(\"the above statement is wrong\")"
   ]
  },
  {
   "cell_type": "code",
   "execution_count": 42,
   "id": "3cc1125c",
   "metadata": {},
   "outputs": [
    {
     "name": "stdout",
     "output_type": "stream",
     "text": [
      "I will be able to buy an apple\n"
     ]
    }
   ],
   "source": [
    "income = 40\n",
    "if income < 50:\n",
    "    print(\"I will be able to buy an apple\")\n",
    "elif income < 70:\n",
    "    print(\"I will buy a Guava\")\n",
    "elif income < 90:\n",
    "    print(\"I will buy bananas\")\n",
    "else:\n",
    "    print(\"Nothing I will buy\")"
   ]
  },
  {
   "cell_type": "code",
   "execution_count": 43,
   "id": "788f5ac7",
   "metadata": {},
   "outputs": [
    {
     "name": "stdout",
     "output_type": "stream",
     "text": [
      "70\n",
      "I will buy bananas\n"
     ]
    }
   ],
   "source": [
    "income = int(input())\n",
    "if income < 50:\n",
    "    print(\"I will be able to buy an apple\")\n",
    "elif income < 70:\n",
    "    print(\"I will buy a Guava\")\n",
    "elif income < 90:\n",
    "    print(\"I will buy bananas\")\n",
    "else:\n",
    "    print(\"Nothing I will buy\")"
   ]
  },
  {
   "cell_type": "code",
   "execution_count": 45,
   "id": "67480d70",
   "metadata": {},
   "outputs": [
    {
     "name": "stdout",
     "output_type": "stream",
     "text": [
      "50000\n",
      "Discount will be 10000.0\n"
     ]
    }
   ],
   "source": [
    "Total_price = int(input())\n",
    "if Total_price > 20000:\n",
    "    discount = Total_price * .20\n",
    "    print(\"Discount will be\", discount)\n",
    "elif Total_price <= 7000 :\n",
    "    discount = Total_price * .05\n",
    "    print(\"Discount will be\", discount)\n",
    "else :\n",
    "    print(\"Won't be able to give a discount\")\n",
    "    "
   ]
  },
  {
   "cell_type": "code",
   "execution_count": 49,
   "id": "4093b509",
   "metadata": {},
   "outputs": [
    {
     "name": "stdout",
     "output_type": "stream",
     "text": [
      "Hemanth5\n",
      "you will be able to get a discount of 5 %\n",
      "you will be able to get one neuron with this amount 6726.0\n"
     ]
    }
   ],
   "source": [
    "coup = str(input())\n",
    "if coup == 'Hemanth5' :\n",
    "    print('you will be able to get a discount of 5 %')\n",
    "    paid_amount = 7080 - 7080 * .05\n",
    "    print('you will be able to get one neuron with this amount' , paid_amount)\n",
    "else :\n",
    "    print('Kindly use valid Coupon Code')\n"
   ]
  },
  {
   "cell_type": "code",
   "execution_count": 52,
   "id": "32ea344f",
   "metadata": {},
   "outputs": [
    {
     "name": "stdout",
     "output_type": "stream",
     "text": [
      "2\n",
      "It may take 6 month of time to make a transition\n"
     ]
    }
   ],
   "source": [
    "study_hour = int(input())\n",
    "if study_hour < 1 :\n",
    "    print('It may take 8-9 months of time to make a transition')\n",
    "elif study_hour < 4 and study_hour > 1 :\n",
    "    print('It may take 6 month of time to make a transition')\n",
    "elif study_hour > 10 :\n",
    "    print('It will take 3 months for a transition')\n",
    "else :\n",
    "    print('It will be difficult')"
   ]
  },
  {
   "cell_type": "code",
   "execution_count": 53,
   "id": "069b7d63",
   "metadata": {},
   "outputs": [
    {
     "name": "stdout",
     "output_type": "stream",
     "text": [
      "valid\n"
     ]
    }
   ],
   "source": [
    "a = 9\n",
    "if a == 9 : print('valid')"
   ]
  },
  {
   "cell_type": "code",
   "execution_count": 2,
   "id": "cb337569",
   "metadata": {},
   "outputs": [
    {
     "name": "stdout",
     "output_type": "stream",
     "text": [
      "Enter a string to start zdfbbd\n",
      "Enter a course name dbfsdjbvsdkl\n",
      "Enter a Service name ljdbvbvkl\n",
      "kindly connect with our team\n"
     ]
    }
   ],
   "source": [
    "s = input(\"Enter a string to start \")\n",
    "course = input(\"Enter a course name \")\n",
    "service = input(\"Enter a Service name \")\n",
    "if s == 'oneneuron' :\n",
    "    if course == 'DSA' :\n",
    "        print('yes, it is available under oneneuron and in multiple modes for job preparation and core concepts')\n",
    "    elif course == 'Blockchain' :\n",
    "        print('this is not available as of now, kindly raise your demand and we will fulfil in 60 days')\n",
    "    elif course == 'FSDS':\n",
    "        print('yes, it was available you can start learning')\n",
    "    else :\n",
    "        print('this course is not available kindly raise a demand') \n",
    "elif s == 'oneneuron service' :\n",
    "    if service == 'courserequest' :\n",
    "        print('Note: Hi ')\n",
    "    elif service == 'Module Request' :\n",
    "        print('Note: Hello ')\n",
    "    elif service == 'Doubt' :\n",
    "        print('Note: it will be cleared')\n",
    "    elif service == 'workwithus' :\n",
    "        print('Hi work with team')\n",
    "    else :\n",
    "        print('please provide us your feedback')\n",
    "else :\n",
    "    print('kindly connect with our team')"
   ]
  },
  {
   "cell_type": "code",
   "execution_count": 4,
   "id": "5a4cf1ea",
   "metadata": {},
   "outputs": [],
   "source": [
    "#For Loop"
   ]
  },
  {
   "cell_type": "code",
   "execution_count": 5,
   "id": "f8e3448d",
   "metadata": {},
   "outputs": [
    {
     "name": "stdout",
     "output_type": "stream",
     "text": [
      "1\n",
      "2\n",
      "3\n",
      "4\n",
      "5\n",
      "6\n",
      "7\n"
     ]
    }
   ],
   "source": [
    "l = [1,2,3,4,5,6,7]\n",
    "for i in l :\n",
    "    print(i)\n"
   ]
  },
  {
   "cell_type": "code",
   "execution_count": 8,
   "id": "a1acb9a0",
   "metadata": {},
   "outputs": [
    {
     "name": "stdout",
     "output_type": "stream",
     "text": [
      "h\n",
      "e\n",
      "m\n",
      "a\n",
      "n\n",
      "t\n",
      "h\n"
     ]
    }
   ],
   "source": [
    "s = 'hemanth'\n",
    "for i in s :\n",
    "    print(i)"
   ]
  },
  {
   "cell_type": "code",
   "execution_count": 9,
   "id": "66a31fef",
   "metadata": {},
   "outputs": [
    {
     "name": "stdout",
     "output_type": "stream",
     "text": [
      "h\n",
      "e\n",
      "m\n",
      "u\n"
     ]
    }
   ],
   "source": [
    "for i in 'hemu' :\n",
    "    print(i)"
   ]
  },
  {
   "cell_type": "code",
   "execution_count": 10,
   "id": "423bd9fe",
   "metadata": {},
   "outputs": [
    {
     "name": "stdout",
     "output_type": "stream",
     "text": [
      "1\n",
      "2\n",
      "3\n",
      "4\n",
      "a\n",
      "hemanth\n",
      "6\n",
      "7\n"
     ]
    }
   ],
   "source": [
    "t = (1,2,3,4,'a','hemanth',6,7)\n",
    "for i in t :\n",
    "    print(i)"
   ]
  },
  {
   "cell_type": "code",
   "execution_count": 16,
   "id": "e88e7889",
   "metadata": {},
   "outputs": [
    {
     "name": "stdout",
     "output_type": "stream",
     "text": [
      "<class 'int'> type of 1\n",
      "<class 'int'> type of 4\n",
      "<class 'float'> type of 5.6\n",
      "<class 'complex'> type of (4+7j)\n",
      "<class 'str'> type of sudh\n",
      "<class 'float'> type of 1.2\n"
     ]
    }
   ],
   "source": [
    "L1 = [1,4,5.6,4+7j,'sudh', 1.2]\n",
    "for i in L1 :\n",
    "    print(type(i), 'type of' , i)"
   ]
  },
  {
   "cell_type": "code",
   "execution_count": 17,
   "id": "3f7ff8ff",
   "metadata": {},
   "outputs": [
    {
     "name": "stdout",
     "output_type": "stream",
     "text": [
      "3\n",
      "4\n",
      "5\n",
      "6.5\n",
      "(7-2j)\n"
     ]
    }
   ],
   "source": [
    "L2 = [1,2,3,4.5,5-2j]\n",
    "for i in L2 :\n",
    "    j = i + 2\n",
    "    print (j)"
   ]
  },
  {
   "cell_type": "code",
   "execution_count": 22,
   "id": "790cb847",
   "metadata": {},
   "outputs": [
    {
     "name": "stdout",
     "output_type": "stream",
     "text": [
      "3\n",
      "4\n",
      "5\n",
      "6.5\n",
      "(7-2j)\n",
      "[3, 4, 5, 6.5, (7-2j)]\n"
     ]
    }
   ],
   "source": [
    "L2 = [1,2,3,4.5,5-2j]\n",
    "L1 = []\n",
    "for i in L2 :\n",
    "    print (i+2)\n",
    "    L1.append(i+2)\n",
    "print(L1)"
   ]
  },
  {
   "cell_type": "code",
   "execution_count": 21,
   "id": "ba52d119",
   "metadata": {},
   "outputs": [
    {
     "data": {
      "text/plain": [
       "[3, 4, 5, 6.5, (7-2j)]"
      ]
     },
     "execution_count": 21,
     "metadata": {},
     "output_type": "execute_result"
    }
   ],
   "source": [
    "L1"
   ]
  },
  {
   "cell_type": "code",
   "execution_count": 29,
   "id": "1042d6e8",
   "metadata": {},
   "outputs": [
    {
     "name": "stdout",
     "output_type": "stream",
     "text": [
      "1\n",
      "2\n",
      "1\n",
      "2\n",
      "3\n",
      "4\n",
      "[1, 2, [1, 2, 3, 4]]\n"
     ]
    }
   ],
   "source": [
    "L3 = [1,2,'a', 'hemu', 6-2j, [1,2,3,4,'a']]\n",
    "L4 = []\n",
    "L5 = []\n",
    "for i in L3 :\n",
    "    if type(i) == int :\n",
    "        print(i)\n",
    "        L4.append(i)\n",
    "    elif type(i) == list :\n",
    "        for j in i :\n",
    "            if type(j)==int :\n",
    "                print(j)\n",
    "                L5.append(j)\n",
    "                \n",
    "            \n",
    "L4.append(L5)\n",
    "print(L4)\n",
    "        \n"
   ]
  },
  {
   "cell_type": "code",
   "execution_count": 30,
   "id": "cdf9d510",
   "metadata": {},
   "outputs": [],
   "source": [
    "L6 = [2,45,78,12,'Hemanth',2+3j,[12,23,4,5,67,'fsds']]\n",
    "\n",
    "# Try to print the index of all the elements in a list\n",
    "# Try to extract all the list of Char if the element is a string\n",
    "# Try to return a list after doing a square of all the int elements.\n"
   ]
  },
  {
   "cell_type": "code",
   "execution_count": 38,
   "id": "4a179046",
   "metadata": {},
   "outputs": [
    {
     "name": "stdout",
     "output_type": "stream",
     "text": [
      "index is 0 - 2\n",
      "index is 1 - 45\n",
      "index is 2 - 78\n",
      "index is 3 - 12\n",
      "index is 4 - Hemanth\n",
      "index is 5 - (2+3j)\n",
      "index is 6 - [12, 23, 4, 5, 67, 'fsds']\n"
     ]
    }
   ],
   "source": [
    "j = 0\n",
    "for i in L6 :\n",
    "    print('index is', j, '-',i)\n",
    "    j=j+1"
   ]
  },
  {
   "cell_type": "code",
   "execution_count": 57,
   "id": "6c8ed6eb",
   "metadata": {},
   "outputs": [
    {
     "name": "stdout",
     "output_type": "stream",
     "text": [
      "H\n",
      "e\n",
      "m\n",
      "a\n",
      "n\n",
      "t\n",
      "h\n",
      "f\n",
      "s\n",
      "d\n",
      "s\n"
     ]
    },
    {
     "data": {
      "text/plain": [
       "['H', 'e', 'm', 'a', 'n', 't', 'h', 'f', 's', 'd', 's']"
      ]
     },
     "execution_count": 57,
     "metadata": {},
     "output_type": "execute_result"
    }
   ],
   "source": [
    "L8 = []\n",
    "for i in L6 :\n",
    "    if type(i) == str :\n",
    "        for j in i :\n",
    "            L8.append(j)\n",
    "            print(j)\n",
    "    elif type(i) == list :\n",
    "        for j in i :\n",
    "            if type(j) == str :\n",
    "                for k in j :\n",
    "                    L8.append(k)\n",
    "                    print(k)\n",
    "L8"
   ]
  },
  {
   "cell_type": "code",
   "execution_count": 46,
   "id": "724aeac5",
   "metadata": {},
   "outputs": [
    {
     "data": {
      "text/plain": [
       "[4, 2025, 6084, 144, [144, 529, 16, 25, 4489]]"
      ]
     },
     "execution_count": 46,
     "metadata": {},
     "output_type": "execute_result"
    }
   ],
   "source": [
    "L7 = []\n",
    "L8 = []\n",
    "for i in L6 :\n",
    "    if type(i) == int :\n",
    "        k = i * i\n",
    "        L7.append(k)\n",
    "    elif type(i) == list :\n",
    "        for j in i :\n",
    "            if type(j) == int :\n",
    "                H = j * j\n",
    "                L8.append(H)\n",
    "L7.append(L8)\n",
    "L7"
   ]
  },
  {
   "cell_type": "code",
   "execution_count": null,
   "id": "c74fcc8e",
   "metadata": {},
   "outputs": [],
   "source": []
  },
  {
   "cell_type": "code",
   "execution_count": null,
   "id": "646e3f60",
   "metadata": {},
   "outputs": [],
   "source": []
  },
  {
   "cell_type": "code",
   "execution_count": 48,
   "id": "8f460964",
   "metadata": {},
   "outputs": [
    {
     "data": {
      "text/plain": [
       "range(0, 4)"
      ]
     },
     "execution_count": 48,
     "metadata": {},
     "output_type": "execute_result"
    }
   ],
   "source": [
    "range(4)"
   ]
  },
  {
   "cell_type": "code",
   "execution_count": 47,
   "id": "e0e7f579",
   "metadata": {},
   "outputs": [],
   "source": [
    "L6 = [2,45,78,12,'Hemanth',2+3j,[12,23,4,5,67,'fsds']]\n",
    "\n",
    "# Try to print the index of all the elements in a list\n",
    "# Try to extract all the list of Char if the element is a string\n",
    "# Try to return a list after doing a square of all the int elements."
   ]
  },
  {
   "cell_type": "code",
   "execution_count": 53,
   "id": "3757507b",
   "metadata": {},
   "outputs": [
    {
     "name": "stdout",
     "output_type": "stream",
     "text": [
      "index 0 for an element 2\n",
      "index 1 for an element 45\n",
      "index 2 for an element 78\n",
      "index 3 for an element 12\n",
      "index 4 for an element Hemanth\n",
      "index 5 for an element (2+3j)\n",
      "index 6 for an element [12, 23, 4, 5, 67, 'fsds']\n"
     ]
    }
   ],
   "source": [
    "for i in range(len(l)) :\n",
    "    print('index',i,'for an element',L6[i])"
   ]
  },
  {
   "cell_type": "code",
   "execution_count": 54,
   "id": "982141dd",
   "metadata": {},
   "outputs": [
    {
     "name": "stdout",
     "output_type": "stream",
     "text": [
      "(0, 2)\n",
      "(1, 45)\n",
      "(2, 78)\n",
      "(3, 12)\n",
      "(4, 'Hemanth')\n",
      "(5, (2+3j))\n",
      "(6, [12, 23, 4, 5, 67, 'fsds'])\n"
     ]
    }
   ],
   "source": [
    "for i in enumerate(L6) :\n",
    "    print(i)"
   ]
  },
  {
   "cell_type": "code",
   "execution_count": 55,
   "id": "56f8b5e7",
   "metadata": {},
   "outputs": [
    {
     "name": "stdout",
     "output_type": "stream",
     "text": [
      "0 2\n",
      "1 45\n",
      "2 78\n",
      "3 12\n",
      "4 Hemanth\n",
      "5 (2+3j)\n",
      "6 [12, 23, 4, 5, 67, 'fsds']\n"
     ]
    }
   ],
   "source": [
    "for i,j in enumerate(L6) :\n",
    "    print(i,j)"
   ]
  },
  {
   "cell_type": "code",
   "execution_count": null,
   "id": "26b126c9",
   "metadata": {},
   "outputs": [],
   "source": []
  }
 ],
 "metadata": {
  "kernelspec": {
   "display_name": "Python 3 (ipykernel)",
   "language": "python",
   "name": "python3"
  },
  "language_info": {
   "codemirror_mode": {
    "name": "ipython",
    "version": 3
   },
   "file_extension": ".py",
   "mimetype": "text/x-python",
   "name": "python",
   "nbconvert_exporter": "python",
   "pygments_lexer": "ipython3",
   "version": "3.9.7"
  }
 },
 "nbformat": 4,
 "nbformat_minor": 5
}
