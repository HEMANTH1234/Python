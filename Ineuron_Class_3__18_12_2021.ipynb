{
 "cells": [
  {
   "cell_type": "code",
   "execution_count": 101,
   "id": "51f1557b",
   "metadata": {},
   "outputs": [],
   "source": [
    "# TUPLES - A Data Type where we can hold multiple elements at a time\n",
    "# Difference between a TUPLES and LIST is TUPLES take a normal bracket and List takes a square Bracket!\n",
    "# Slicing Operations are same for both TUPLES and LISTS!\n",
    "# For Slicing in terms of Notation use Square Brackets.\n",
    "# Item re-assignment operation will not work in terms of a Tuple. where as in List it will work\n",
    "# Tuples are immutale whereas Lists are Mutable (73  69)\n",
    "# Strings are also immutable. Strings will not support item re-assignment. (76)\n",
    "# Append operation will work in terms of tuples and lists (81 84)\n",
    "# With respect to list there are so many operations but whereas with Tuple there are only two operations count and index. (. press Tab)\n",
    "# Tuples are used during a Data Security where no one can access and change it like passwords for gmail, FB and all.\n",
    "# In case of a fixed size collections we can use tuples!\n",
    "# A tuple can be hosted inside a tuple and A list can be hosted inside a tuple.\n",
    "# Immutability means changes caanot be made at a particular index. If a List is present inside a tuple and change can be made at some index in a List which is inside a tuple. (126)\n",
    "# List can also hold Tuples.\n",
    "# Tuple to list conversion is possible. (135) Also, Viceversa is possible.\n",
    "# Set will removes the repeated elements and arrange in a increasing order or alphabetical order.(140)\n",
    "# SET - Flower Brackets, List - Square Brackets, Tuple - Normal Bracket.\n",
    "# Inside curly Braces(Flower Brackets) if there are no elements, then it is a dictionary.\n",
    "# Slicing operations will not work for a Set(Unordered Collection)\n",
    "# To access an element from a set first convert into a List and then assign it to a new variable and then access each element at a time.(20)\n",
    "# Set cannot hold a List. Set always hold an unordered collection of an unique element. Set can hold primitive data types only (28)\n",
    "# A mutable kind of element cannot be hosted inside a Set. So, A tuple can be hosted inside a set whereas, a list cannot be hosted inside a set.\n",
    "# If any kind of operations cannot be performed on a collection. Then, In that case a Set will allow that and will host inside it.\n",
    "# remove operation in a set will remove the element from the set.(33)\n",
    "# In case of remove if the element is not present. then it will give a key error. but, In case of discard no error.(39) (40).\n",
    "# Set is an Unordered collection. Neither Mutable nor an immutable entity.\n",
    "# String, Set, List, Tuples, Slicing operation Tuple List and String.\n",
    "# Dictionary can store things in Key and Value pair. (50)\n",
    "# Keys in a Dictionary will acts like an indices. Like , indices can  be named.\n",
    "# Key in a dictionary cannot be duplicated. If , it is duplicated then it will hold the recently assigned value.\n",
    "# Values can be anything in a dictionary.\n",
    "# Dictionary can hold any collection like Tuple, String, Set, List, Dicstionary, Number, Alphabet.\n",
    "# type of key of a Dictionary can be checked. (79)\n",
    "# Dictionary of items will provide the List of Tuples. (85)\n",
    "# Name of the key cannot be changed but it can be deleted.\n",
    "# Key as a List doesn't going to work but as a tuple it will work. So, key must be an immutable Element. (97) (98)\n",
    "# Update will update D1 with D2. It was like an append operation. (107)\n",
    "# Plus operation will work for a List and a string but it will not work for a Dictionary. In this case update needs to be used. (109)"
   ]
  },
  {
   "cell_type": "code",
   "execution_count": 47,
   "id": "73709af3",
   "metadata": {},
   "outputs": [],
   "source": [
    "t = (1,2,3,4,5)"
   ]
  },
  {
   "cell_type": "code",
   "execution_count": 48,
   "id": "742136b0",
   "metadata": {},
   "outputs": [
    {
     "data": {
      "text/plain": [
       "tuple"
      ]
     },
     "execution_count": 48,
     "metadata": {},
     "output_type": "execute_result"
    }
   ],
   "source": [
    "type(t)"
   ]
  },
  {
   "cell_type": "code",
   "execution_count": 104,
   "id": "69dafd7e",
   "metadata": {},
   "outputs": [],
   "source": [
    "t1 = (\"hemanth\", 1, 1.23, 2+5j, True)"
   ]
  },
  {
   "cell_type": "code",
   "execution_count": 50,
   "id": "434a5f57",
   "metadata": {},
   "outputs": [
    {
     "name": "stdout",
     "output_type": "stream",
     "text": [
      "('hemanth', 1, 1.23, (2+5j), True)\n"
     ]
    }
   ],
   "source": [
    "print(t1)"
   ]
  },
  {
   "cell_type": "code",
   "execution_count": 51,
   "id": "b9f7ffbf",
   "metadata": {},
   "outputs": [],
   "source": [
    "l = [\"hemanth\", 1, 1.23, 2+5j, True]"
   ]
  },
  {
   "cell_type": "code",
   "execution_count": 52,
   "id": "b61c8cc5",
   "metadata": {},
   "outputs": [
    {
     "data": {
      "text/plain": [
       "tuple"
      ]
     },
     "execution_count": 52,
     "metadata": {},
     "output_type": "execute_result"
    }
   ],
   "source": [
    "type(t1)"
   ]
  },
  {
   "cell_type": "code",
   "execution_count": 53,
   "id": "554eb20f",
   "metadata": {},
   "outputs": [
    {
     "data": {
      "text/plain": [
       "list"
      ]
     },
     "execution_count": 53,
     "metadata": {},
     "output_type": "execute_result"
    }
   ],
   "source": [
    "type(l)"
   ]
  },
  {
   "cell_type": "code",
   "execution_count": 54,
   "id": "a3f983c4",
   "metadata": {},
   "outputs": [],
   "source": [
    "t2 = ()"
   ]
  },
  {
   "cell_type": "code",
   "execution_count": 55,
   "id": "ab357991",
   "metadata": {},
   "outputs": [
    {
     "data": {
      "text/plain": [
       "tuple"
      ]
     },
     "execution_count": 55,
     "metadata": {},
     "output_type": "execute_result"
    }
   ],
   "source": [
    "type(t2)"
   ]
  },
  {
   "cell_type": "code",
   "execution_count": 56,
   "id": "89c88056",
   "metadata": {},
   "outputs": [
    {
     "data": {
      "text/plain": [
       "('hemanth', 1, 1.23, (2+5j), True)"
      ]
     },
     "execution_count": 56,
     "metadata": {},
     "output_type": "execute_result"
    }
   ],
   "source": [
    "t1"
   ]
  },
  {
   "cell_type": "code",
   "execution_count": 57,
   "id": "ef428356",
   "metadata": {},
   "outputs": [
    {
     "data": {
      "text/plain": [
       "['hemanth', 1, 1.23, (2+5j), True]"
      ]
     },
     "execution_count": 57,
     "metadata": {},
     "output_type": "execute_result"
    }
   ],
   "source": [
    "l"
   ]
  },
  {
   "cell_type": "code",
   "execution_count": 58,
   "id": "a947a546",
   "metadata": {},
   "outputs": [
    {
     "data": {
      "text/plain": [
       "['hemanth', 1]"
      ]
     },
     "execution_count": 58,
     "metadata": {},
     "output_type": "execute_result"
    }
   ],
   "source": [
    "l[0:2]"
   ]
  },
  {
   "cell_type": "code",
   "execution_count": 59,
   "id": "4c7562f0",
   "metadata": {},
   "outputs": [
    {
     "data": {
      "text/plain": [
       "('hemanth', 1)"
      ]
     },
     "execution_count": 59,
     "metadata": {},
     "output_type": "execute_result"
    }
   ],
   "source": [
    "t1[0:2]"
   ]
  },
  {
   "cell_type": "code",
   "execution_count": 60,
   "id": "c27af4d0",
   "metadata": {},
   "outputs": [
    {
     "data": {
      "text/plain": [
       "(True, (2+5j), 1.23, 1, 'hemanth')"
      ]
     },
     "execution_count": 60,
     "metadata": {},
     "output_type": "execute_result"
    }
   ],
   "source": [
    "t1[::-1]"
   ]
  },
  {
   "cell_type": "code",
   "execution_count": 61,
   "id": "c9127397",
   "metadata": {},
   "outputs": [
    {
     "data": {
      "text/plain": [
       "('hemanth', 1, 1.23, (2+5j))"
      ]
     },
     "execution_count": 61,
     "metadata": {},
     "output_type": "execute_result"
    }
   ],
   "source": [
    "t1[0:-1]"
   ]
  },
  {
   "cell_type": "code",
   "execution_count": 62,
   "id": "2124a936",
   "metadata": {},
   "outputs": [
    {
     "data": {
      "text/plain": [
       "('hemanth', 1, 1.23, (2+5j), True)"
      ]
     },
     "execution_count": 62,
     "metadata": {},
     "output_type": "execute_result"
    }
   ],
   "source": [
    "t1"
   ]
  },
  {
   "cell_type": "code",
   "execution_count": 63,
   "id": "432669c9",
   "metadata": {},
   "outputs": [
    {
     "data": {
      "text/plain": [
       "True"
      ]
     },
     "execution_count": 63,
     "metadata": {},
     "output_type": "execute_result"
    }
   ],
   "source": [
    "t1[-1]"
   ]
  },
  {
   "cell_type": "code",
   "execution_count": 64,
   "id": "b65a54a0",
   "metadata": {},
   "outputs": [
    {
     "data": {
      "text/plain": [
       "('hemanth', 1.23)"
      ]
     },
     "execution_count": 64,
     "metadata": {},
     "output_type": "execute_result"
    }
   ],
   "source": [
    "t1[0:-1:2]"
   ]
  },
  {
   "cell_type": "code",
   "execution_count": 65,
   "id": "6a8874eb",
   "metadata": {},
   "outputs": [
    {
     "data": {
      "text/plain": [
       "('hemanth', 1.23, True)"
      ]
     },
     "execution_count": 65,
     "metadata": {},
     "output_type": "execute_result"
    }
   ],
   "source": [
    "t1[0::2]"
   ]
  },
  {
   "cell_type": "code",
   "execution_count": 66,
   "id": "c689df0d",
   "metadata": {},
   "outputs": [
    {
     "data": {
      "text/plain": [
       "['hemanth', 1, 1.23, (2+5j), True]"
      ]
     },
     "execution_count": 66,
     "metadata": {},
     "output_type": "execute_result"
    }
   ],
   "source": [
    "l"
   ]
  },
  {
   "cell_type": "code",
   "execution_count": 67,
   "id": "2f02a2d9",
   "metadata": {},
   "outputs": [],
   "source": [
    "l1= [4,5,6,7]"
   ]
  },
  {
   "cell_type": "code",
   "execution_count": 68,
   "id": "2c44cd36",
   "metadata": {},
   "outputs": [
    {
     "data": {
      "text/plain": [
       "'hemanth'"
      ]
     },
     "execution_count": 68,
     "metadata": {},
     "output_type": "execute_result"
    }
   ],
   "source": [
    "l[0]"
   ]
  },
  {
   "cell_type": "code",
   "execution_count": 69,
   "id": "bbc57c32",
   "metadata": {},
   "outputs": [],
   "source": [
    "l[0] = 'Kumar'\n",
    "# Item re-assignment operation"
   ]
  },
  {
   "cell_type": "code",
   "execution_count": 70,
   "id": "c802e285",
   "metadata": {},
   "outputs": [
    {
     "data": {
      "text/plain": [
       "['Kumar', 1, 1.23, (2+5j), True]"
      ]
     },
     "execution_count": 70,
     "metadata": {},
     "output_type": "execute_result"
    }
   ],
   "source": [
    "l"
   ]
  },
  {
   "cell_type": "code",
   "execution_count": 71,
   "id": "da4f0d0b",
   "metadata": {},
   "outputs": [
    {
     "data": {
      "text/plain": [
       "('hemanth', 1, 1.23, (2+5j), True)"
      ]
     },
     "execution_count": 71,
     "metadata": {},
     "output_type": "execute_result"
    }
   ],
   "source": [
    "t1"
   ]
  },
  {
   "cell_type": "code",
   "execution_count": 72,
   "id": "1ef16a3b",
   "metadata": {},
   "outputs": [
    {
     "data": {
      "text/plain": [
       "'hemanth'"
      ]
     },
     "execution_count": 72,
     "metadata": {},
     "output_type": "execute_result"
    }
   ],
   "source": [
    "t1[0]"
   ]
  },
  {
   "cell_type": "code",
   "execution_count": 73,
   "id": "2a11da9f",
   "metadata": {},
   "outputs": [
    {
     "ename": "TypeError",
     "evalue": "'tuple' object does not support item assignment",
     "output_type": "error",
     "traceback": [
      "\u001b[1;31m---------------------------------------------------------------------------\u001b[0m",
      "\u001b[1;31mTypeError\u001b[0m                                 Traceback (most recent call last)",
      "\u001b[1;32m~\\AppData\\Local\\Temp/ipykernel_2316/2903521501.py\u001b[0m in \u001b[0;36m<module>\u001b[1;34m\u001b[0m\n\u001b[1;32m----> 1\u001b[1;33m \u001b[0mt1\u001b[0m\u001b[1;33m[\u001b[0m\u001b[1;36m0\u001b[0m\u001b[1;33m]\u001b[0m \u001b[1;33m=\u001b[0m \u001b[1;34m'Kumar'\u001b[0m\u001b[1;33m\u001b[0m\u001b[1;33m\u001b[0m\u001b[0m\n\u001b[0m\u001b[0;32m      2\u001b[0m \u001b[1;31m# Item re-assignment operation will not work in terms of a Tuple.\u001b[0m\u001b[1;33m\u001b[0m\u001b[1;33m\u001b[0m\u001b[0m\n\u001b[0;32m      3\u001b[0m \u001b[1;31m# Tuples are immutable collection !\u001b[0m\u001b[1;33m\u001b[0m\u001b[1;33m\u001b[0m\u001b[0m\n",
      "\u001b[1;31mTypeError\u001b[0m: 'tuple' object does not support item assignment"
     ]
    }
   ],
   "source": [
    "t1[0] = 'Kumar'\n",
    "# Item re-assignment operation will not work in terms of a Tuple.\n",
    "# Tuples are immutable collection !"
   ]
  },
  {
   "cell_type": "code",
   "execution_count": 74,
   "id": "25e50245",
   "metadata": {},
   "outputs": [],
   "source": [
    "s = 'Hemanth'"
   ]
  },
  {
   "cell_type": "code",
   "execution_count": 75,
   "id": "623978b1",
   "metadata": {},
   "outputs": [
    {
     "data": {
      "text/plain": [
       "'H'"
      ]
     },
     "execution_count": 75,
     "metadata": {},
     "output_type": "execute_result"
    }
   ],
   "source": [
    "s[0]"
   ]
  },
  {
   "cell_type": "code",
   "execution_count": 76,
   "id": "ace29a82",
   "metadata": {},
   "outputs": [
    {
     "ename": "TypeError",
     "evalue": "'str' object does not support item assignment",
     "output_type": "error",
     "traceback": [
      "\u001b[1;31m---------------------------------------------------------------------------\u001b[0m",
      "\u001b[1;31mTypeError\u001b[0m                                 Traceback (most recent call last)",
      "\u001b[1;32m~\\AppData\\Local\\Temp/ipykernel_2316/2149782055.py\u001b[0m in \u001b[0;36m<module>\u001b[1;34m\u001b[0m\n\u001b[1;32m----> 1\u001b[1;33m \u001b[0ms\u001b[0m\u001b[1;33m[\u001b[0m\u001b[1;36m0\u001b[0m\u001b[1;33m]\u001b[0m \u001b[1;33m=\u001b[0m \u001b[1;34m'a'\u001b[0m\u001b[1;33m\u001b[0m\u001b[1;33m\u001b[0m\u001b[0m\n\u001b[0m",
      "\u001b[1;31mTypeError\u001b[0m: 'str' object does not support item assignment"
     ]
    }
   ],
   "source": [
    "s[0] = 'a'"
   ]
  },
  {
   "cell_type": "code",
   "execution_count": 78,
   "id": "39bb1067",
   "metadata": {},
   "outputs": [
    {
     "data": {
      "text/plain": [
       "('hemanth', 1, 1.23, (2+5j), True)"
      ]
     },
     "execution_count": 78,
     "metadata": {},
     "output_type": "execute_result"
    }
   ],
   "source": [
    "t1"
   ]
  },
  {
   "cell_type": "code",
   "execution_count": 79,
   "id": "b0f908f1",
   "metadata": {},
   "outputs": [],
   "source": [
    "t2 = (34,35,36,37)"
   ]
  },
  {
   "cell_type": "code",
   "execution_count": 81,
   "id": "e756a575",
   "metadata": {},
   "outputs": [
    {
     "data": {
      "text/plain": [
       "('hemanth', 1, 1.23, (2+5j), True, 34, 35, 36, 37)"
      ]
     },
     "execution_count": 81,
     "metadata": {},
     "output_type": "execute_result"
    }
   ],
   "source": [
    "t1 + t2\n",
    "# Append operation will work in tuples!"
   ]
  },
  {
   "cell_type": "code",
   "execution_count": 82,
   "id": "1a71e644",
   "metadata": {},
   "outputs": [
    {
     "data": {
      "text/plain": [
       "['Kumar', 1, 1.23, (2+5j), True]"
      ]
     },
     "execution_count": 82,
     "metadata": {},
     "output_type": "execute_result"
    }
   ],
   "source": [
    "l"
   ]
  },
  {
   "cell_type": "code",
   "execution_count": 83,
   "id": "5ad4c24b",
   "metadata": {},
   "outputs": [],
   "source": [
    "l1 = [234, 'hemanth_kumar' , 23.5]"
   ]
  },
  {
   "cell_type": "code",
   "execution_count": 84,
   "id": "23fbf7f6",
   "metadata": {},
   "outputs": [
    {
     "data": {
      "text/plain": [
       "['Kumar', 1, 1.23, (2+5j), True, 234, 'hemanth_kumar', 23.5]"
      ]
     },
     "execution_count": 84,
     "metadata": {},
     "output_type": "execute_result"
    }
   ],
   "source": [
    "l + l1"
   ]
  },
  {
   "cell_type": "code",
   "execution_count": 86,
   "id": "0ce8e349",
   "metadata": {},
   "outputs": [
    {
     "data": {
      "text/plain": [
       "('hemanth', 1, 1.23, (2+5j), True)"
      ]
     },
     "execution_count": 86,
     "metadata": {},
     "output_type": "execute_result"
    }
   ],
   "source": [
    "t1"
   ]
  },
  {
   "cell_type": "code",
   "execution_count": 87,
   "id": "0baf33e2",
   "metadata": {},
   "outputs": [
    {
     "data": {
      "text/plain": [
       "('hemanth', 1, 1.23, (2+5j), True, 'hemanth', 1, 1.23, (2+5j), True)"
      ]
     },
     "execution_count": 87,
     "metadata": {},
     "output_type": "execute_result"
    }
   ],
   "source": [
    "t1 * 2"
   ]
  },
  {
   "cell_type": "code",
   "execution_count": 109,
   "id": "8e8e9628",
   "metadata": {},
   "outputs": [],
   "source": [
    "t3 = ('hemanth', 1, 0.23, (2+5j), False)"
   ]
  },
  {
   "cell_type": "code",
   "execution_count": 112,
   "id": "bb175871",
   "metadata": {},
   "outputs": [
    {
     "data": {
      "text/plain": [
       "1"
      ]
     },
     "execution_count": 112,
     "metadata": {},
     "output_type": "execute_result"
    }
   ],
   "source": [
    "t3.count(1)"
   ]
  },
  {
   "cell_type": "code",
   "execution_count": 114,
   "id": "1c1a78f6",
   "metadata": {},
   "outputs": [
    {
     "data": {
      "text/plain": [
       "('hemanth', 1, 1.23, (2+5j), True)"
      ]
     },
     "execution_count": 114,
     "metadata": {},
     "output_type": "execute_result"
    }
   ],
   "source": [
    "t1"
   ]
  },
  {
   "cell_type": "code",
   "execution_count": 115,
   "id": "0ec52311",
   "metadata": {},
   "outputs": [
    {
     "data": {
      "text/plain": [
       "2"
      ]
     },
     "execution_count": 115,
     "metadata": {},
     "output_type": "execute_result"
    }
   ],
   "source": [
    "t1.index(1.23)"
   ]
  },
  {
   "cell_type": "code",
   "execution_count": 119,
   "id": "a45ccf25",
   "metadata": {},
   "outputs": [],
   "source": [
    "t = (45,46,47,(1,2,3,4,'a'),'hemanth')"
   ]
  },
  {
   "cell_type": "code",
   "execution_count": 120,
   "id": "d499d6fb",
   "metadata": {},
   "outputs": [
    {
     "data": {
      "text/plain": [
       "(45, 46, 47, (1, 2, 3, 4, 'a'), 'hemanth')"
      ]
     },
     "execution_count": 120,
     "metadata": {},
     "output_type": "execute_result"
    }
   ],
   "source": [
    "t"
   ]
  },
  {
   "cell_type": "code",
   "execution_count": 121,
   "id": "c8460bc0",
   "metadata": {},
   "outputs": [],
   "source": [
    "t1 = (1,2,3,4,'a', [1,'a',4 , True])"
   ]
  },
  {
   "cell_type": "code",
   "execution_count": 122,
   "id": "c089f9c4",
   "metadata": {},
   "outputs": [
    {
     "data": {
      "text/plain": [
       "(1, 2, 3, 4, 'a', [1, 'a', 4, True])"
      ]
     },
     "execution_count": 122,
     "metadata": {},
     "output_type": "execute_result"
    }
   ],
   "source": [
    "t1"
   ]
  },
  {
   "cell_type": "code",
   "execution_count": 124,
   "id": "8af3822a",
   "metadata": {},
   "outputs": [
    {
     "data": {
      "text/plain": [
       "[1, 'a', 4, True]"
      ]
     },
     "execution_count": 124,
     "metadata": {},
     "output_type": "execute_result"
    }
   ],
   "source": [
    "t1[5]"
   ]
  },
  {
   "cell_type": "code",
   "execution_count": 125,
   "id": "dbd9be2c",
   "metadata": {},
   "outputs": [
    {
     "data": {
      "text/plain": [
       "4"
      ]
     },
     "execution_count": 125,
     "metadata": {},
     "output_type": "execute_result"
    }
   ],
   "source": [
    "t1[5] [2] "
   ]
  },
  {
   "cell_type": "code",
   "execution_count": 126,
   "id": "1dfe14bc",
   "metadata": {},
   "outputs": [],
   "source": [
    "t1[5] [2] = 'hemanth'"
   ]
  },
  {
   "cell_type": "code",
   "execution_count": 127,
   "id": "4dd49305",
   "metadata": {},
   "outputs": [
    {
     "data": {
      "text/plain": [
       "(1, 2, 3, 4, 'a', [1, 'a', 'hemanth', True])"
      ]
     },
     "execution_count": 127,
     "metadata": {},
     "output_type": "execute_result"
    }
   ],
   "source": [
    "t1"
   ]
  },
  {
   "cell_type": "code",
   "execution_count": 129,
   "id": "464c2c3b",
   "metadata": {},
   "outputs": [
    {
     "ename": "TypeError",
     "evalue": "'tuple' object does not support item assignment",
     "output_type": "error",
     "traceback": [
      "\u001b[1;31m---------------------------------------------------------------------------\u001b[0m",
      "\u001b[1;31mTypeError\u001b[0m                                 Traceback (most recent call last)",
      "\u001b[1;32m~\\AppData\\Local\\Temp/ipykernel_2316/1716430546.py\u001b[0m in \u001b[0;36m<module>\u001b[1;34m\u001b[0m\n\u001b[1;32m----> 1\u001b[1;33m \u001b[0mt1\u001b[0m\u001b[1;33m[\u001b[0m\u001b[1;36m0\u001b[0m\u001b[1;33m]\u001b[0m \u001b[1;33m=\u001b[0m \u001b[1;34m'34'\u001b[0m\u001b[1;33m\u001b[0m\u001b[1;33m\u001b[0m\u001b[0m\n\u001b[0m",
      "\u001b[1;31mTypeError\u001b[0m: 'tuple' object does not support item assignment"
     ]
    }
   ],
   "source": [
    "t1[0] = '34'"
   ]
  },
  {
   "cell_type": "code",
   "execution_count": 131,
   "id": "41e5d0cc",
   "metadata": {},
   "outputs": [],
   "source": [
    "t5 = (1,2,5,'a',True)"
   ]
  },
  {
   "cell_type": "code",
   "execution_count": 134,
   "id": "4df47e4f",
   "metadata": {},
   "outputs": [],
   "source": [
    "l5 = list(t5)"
   ]
  },
  {
   "cell_type": "code",
   "execution_count": 135,
   "id": "8f9717fe",
   "metadata": {},
   "outputs": [
    {
     "data": {
      "text/plain": [
       "[1, 2, 5, 'a', True]"
      ]
     },
     "execution_count": 135,
     "metadata": {},
     "output_type": "execute_result"
    }
   ],
   "source": [
    "l5"
   ]
  },
  {
   "cell_type": "code",
   "execution_count": 137,
   "id": "6568b010",
   "metadata": {},
   "outputs": [],
   "source": [
    "# SET"
   ]
  },
  {
   "cell_type": "code",
   "execution_count": 138,
   "id": "7fc80b73",
   "metadata": {},
   "outputs": [],
   "source": [
    "L7 = [1,2,3,4,5,76,5,6,9,0,7,8,9,1,2,3]"
   ]
  },
  {
   "cell_type": "code",
   "execution_count": 139,
   "id": "dee988e9",
   "metadata": {},
   "outputs": [],
   "source": [
    "S1= set(L7)"
   ]
  },
  {
   "cell_type": "code",
   "execution_count": 140,
   "id": "8696b895",
   "metadata": {},
   "outputs": [
    {
     "data": {
      "text/plain": [
       "{0, 1, 2, 3, 4, 5, 6, 7, 8, 9, 76}"
      ]
     },
     "execution_count": 140,
     "metadata": {},
     "output_type": "execute_result"
    }
   ],
   "source": [
    "S1"
   ]
  },
  {
   "cell_type": "code",
   "execution_count": 1,
   "id": "2ac3ab48",
   "metadata": {},
   "outputs": [],
   "source": [
    "S = {}"
   ]
  },
  {
   "cell_type": "code",
   "execution_count": 2,
   "id": "e2ff4f60",
   "metadata": {},
   "outputs": [
    {
     "data": {
      "text/plain": [
       "dict"
      ]
     },
     "execution_count": 2,
     "metadata": {},
     "output_type": "execute_result"
    }
   ],
   "source": [
    "type(S)"
   ]
  },
  {
   "cell_type": "code",
   "execution_count": 3,
   "id": "5ffc08b6",
   "metadata": {},
   "outputs": [],
   "source": [
    "s1 = {1,2,3}"
   ]
  },
  {
   "cell_type": "code",
   "execution_count": 4,
   "id": "9ed38e4f",
   "metadata": {},
   "outputs": [
    {
     "data": {
      "text/plain": [
       "set"
      ]
     },
     "execution_count": 4,
     "metadata": {},
     "output_type": "execute_result"
    }
   ],
   "source": [
    "type(s1)"
   ]
  },
  {
   "cell_type": "code",
   "execution_count": 7,
   "id": "d39af7f5",
   "metadata": {},
   "outputs": [],
   "source": [
    "s2 = {1,1,1,2,3,2,1,1,2,3,4,54}"
   ]
  },
  {
   "cell_type": "code",
   "execution_count": 8,
   "id": "e48e95fb",
   "metadata": {},
   "outputs": [
    {
     "data": {
      "text/plain": [
       "{1, 2, 3, 4, 54}"
      ]
     },
     "execution_count": 8,
     "metadata": {},
     "output_type": "execute_result"
    }
   ],
   "source": [
    "s2"
   ]
  },
  {
   "cell_type": "code",
   "execution_count": 10,
   "id": "c04f3457",
   "metadata": {},
   "outputs": [
    {
     "ename": "TypeError",
     "evalue": "'set' object is not subscriptable",
     "output_type": "error",
     "traceback": [
      "\u001b[1;31m---------------------------------------------------------------------------\u001b[0m",
      "\u001b[1;31mTypeError\u001b[0m                                 Traceback (most recent call last)",
      "\u001b[1;32m~\\AppData\\Local\\Temp/ipykernel_14464/2344841457.py\u001b[0m in \u001b[0;36m<module>\u001b[1;34m\u001b[0m\n\u001b[1;32m----> 1\u001b[1;33m \u001b[0ms2\u001b[0m\u001b[1;33m[\u001b[0m\u001b[1;36m0\u001b[0m\u001b[1;33m]\u001b[0m\u001b[1;33m\u001b[0m\u001b[1;33m\u001b[0m\u001b[0m\n\u001b[0m",
      "\u001b[1;31mTypeError\u001b[0m: 'set' object is not subscriptable"
     ]
    }
   ],
   "source": [
    "s2[0]"
   ]
  },
  {
   "cell_type": "code",
   "execution_count": 20,
   "id": "e4c08a6e",
   "metadata": {},
   "outputs": [],
   "source": [
    "L2=list(s2)\n",
    "# To access an element from a set first convert into a List and then assign it to a new variable and then access each element at a time."
   ]
  },
  {
   "cell_type": "code",
   "execution_count": 17,
   "id": "ff6b3ab5",
   "metadata": {},
   "outputs": [
    {
     "data": {
      "text/plain": [
       "1"
      ]
     },
     "execution_count": 17,
     "metadata": {},
     "output_type": "execute_result"
    }
   ],
   "source": [
    "L2[0]"
   ]
  },
  {
   "cell_type": "code",
   "execution_count": 18,
   "id": "97be936f",
   "metadata": {},
   "outputs": [],
   "source": [
    "s2.add(99998899)"
   ]
  },
  {
   "cell_type": "code",
   "execution_count": 19,
   "id": "6f110b1f",
   "metadata": {},
   "outputs": [
    {
     "data": {
      "text/plain": [
       "{1, 2, 3, 4, 54, 99998899}"
      ]
     },
     "execution_count": 19,
     "metadata": {},
     "output_type": "execute_result"
    }
   ],
   "source": [
    "s2"
   ]
  },
  {
   "cell_type": "code",
   "execution_count": 22,
   "id": "af5fd588",
   "metadata": {},
   "outputs": [],
   "source": [
    "s2.add('hemanth')"
   ]
  },
  {
   "cell_type": "code",
   "execution_count": 23,
   "id": "bcda015d",
   "metadata": {},
   "outputs": [
    {
     "data": {
      "text/plain": [
       "{1, 2, 3, 4, 54, 99998899, 'hemanth'}"
      ]
     },
     "execution_count": 23,
     "metadata": {},
     "output_type": "execute_result"
    }
   ],
   "source": [
    "s2"
   ]
  },
  {
   "cell_type": "code",
   "execution_count": 24,
   "id": "44caec71",
   "metadata": {},
   "outputs": [],
   "source": [
    "s2.add(\"Anu\")"
   ]
  },
  {
   "cell_type": "code",
   "execution_count": 25,
   "id": "63b3fcff",
   "metadata": {},
   "outputs": [
    {
     "data": {
      "text/plain": [
       "{1, 2, 3, 4, 54, 99998899, 'Anu', 'hemanth'}"
      ]
     },
     "execution_count": 25,
     "metadata": {},
     "output_type": "execute_result"
    }
   ],
   "source": [
    "s2"
   ]
  },
  {
   "cell_type": "code",
   "execution_count": 27,
   "id": "18dde2c3",
   "metadata": {},
   "outputs": [
    {
     "ename": "TypeError",
     "evalue": "unhashable type: 'list'",
     "output_type": "error",
     "traceback": [
      "\u001b[1;31m---------------------------------------------------------------------------\u001b[0m",
      "\u001b[1;31mTypeError\u001b[0m                                 Traceback (most recent call last)",
      "\u001b[1;32m~\\AppData\\Local\\Temp/ipykernel_14464/865997819.py\u001b[0m in \u001b[0;36m<module>\u001b[1;34m\u001b[0m\n\u001b[1;32m----> 1\u001b[1;33m \u001b[0ms2\u001b[0m\u001b[1;33m.\u001b[0m\u001b[0madd\u001b[0m\u001b[1;33m(\u001b[0m\u001b[1;33m[\u001b[0m\u001b[1;36m3\u001b[0m\u001b[1;33m,\u001b[0m\u001b[1;36m4\u001b[0m\u001b[1;33m,\u001b[0m\u001b[1;36m5\u001b[0m\u001b[1;33m,\u001b[0m\u001b[1;36m6\u001b[0m\u001b[1;33m]\u001b[0m\u001b[1;33m)\u001b[0m\u001b[1;33m\u001b[0m\u001b[1;33m\u001b[0m\u001b[0m\n\u001b[0m",
      "\u001b[1;31mTypeError\u001b[0m: unhashable type: 'list'"
     ]
    }
   ],
   "source": [
    "s2.add([3,4,5,6])"
   ]
  },
  {
   "cell_type": "code",
   "execution_count": 28,
   "id": "34ad7d33",
   "metadata": {},
   "outputs": [
    {
     "ename": "TypeError",
     "evalue": "unhashable type: 'list'",
     "output_type": "error",
     "traceback": [
      "\u001b[1;31m---------------------------------------------------------------------------\u001b[0m",
      "\u001b[1;31mTypeError\u001b[0m                                 Traceback (most recent call last)",
      "\u001b[1;32m~\\AppData\\Local\\Temp/ipykernel_14464/1888556138.py\u001b[0m in \u001b[0;36m<module>\u001b[1;34m\u001b[0m\n\u001b[1;32m----> 1\u001b[1;33m \u001b[1;33m{\u001b[0m\u001b[1;33m[\u001b[0m\u001b[1;36m1\u001b[0m\u001b[1;33m,\u001b[0m\u001b[1;36m2\u001b[0m\u001b[1;33m,\u001b[0m\u001b[1;36m3\u001b[0m\u001b[1;33m]\u001b[0m\u001b[1;33m,\u001b[0m\u001b[1;36m3\u001b[0m\u001b[1;33m,\u001b[0m\u001b[1;36m4\u001b[0m\u001b[1;33m,\u001b[0m\u001b[1;36m5\u001b[0m\u001b[1;33m}\u001b[0m\u001b[1;33m\u001b[0m\u001b[1;33m\u001b[0m\u001b[0m\n\u001b[0m",
      "\u001b[1;31mTypeError\u001b[0m: unhashable type: 'list'"
     ]
    }
   ],
   "source": [
    "{[1,2,3],3,4,5}"
   ]
  },
  {
   "cell_type": "code",
   "execution_count": 29,
   "id": "0bbb709a",
   "metadata": {},
   "outputs": [
    {
     "data": {
      "text/plain": [
       "{(1, 2, 3), 3, 4, 5}"
      ]
     },
     "execution_count": 29,
     "metadata": {},
     "output_type": "execute_result"
    }
   ],
   "source": [
    "{(1,2,3),3,4,5}"
   ]
  },
  {
   "cell_type": "code",
   "execution_count": 30,
   "id": "70c1b0b0",
   "metadata": {},
   "outputs": [
    {
     "data": {
      "text/plain": [
       "{(1, 2, 3), 3, 4, 5}"
      ]
     },
     "execution_count": 30,
     "metadata": {},
     "output_type": "execute_result"
    }
   ],
   "source": [
    "{(1,2,3),(1,2,3),3,4,5}"
   ]
  },
  {
   "cell_type": "code",
   "execution_count": 31,
   "id": "6657b058",
   "metadata": {},
   "outputs": [],
   "source": [
    "ss = {(1,2,3),(1,2,3),3,4,5}"
   ]
  },
  {
   "cell_type": "code",
   "execution_count": 32,
   "id": "66bad5af",
   "metadata": {},
   "outputs": [
    {
     "data": {
      "text/plain": [
       "{(1, 2, 3), 3, 4, 5}"
      ]
     },
     "execution_count": 32,
     "metadata": {},
     "output_type": "execute_result"
    }
   ],
   "source": [
    "ss"
   ]
  },
  {
   "cell_type": "code",
   "execution_count": 33,
   "id": "efaf58f7",
   "metadata": {},
   "outputs": [],
   "source": [
    "ss.remove(4)"
   ]
  },
  {
   "cell_type": "code",
   "execution_count": 35,
   "id": "3e765332",
   "metadata": {},
   "outputs": [],
   "source": [
    "ss.remove((1,2,3))"
   ]
  },
  {
   "cell_type": "code",
   "execution_count": 36,
   "id": "47ae56a6",
   "metadata": {},
   "outputs": [
    {
     "data": {
      "text/plain": [
       "{3, 5}"
      ]
     },
     "execution_count": 36,
     "metadata": {},
     "output_type": "execute_result"
    }
   ],
   "source": [
    "ss"
   ]
  },
  {
   "cell_type": "code",
   "execution_count": 37,
   "id": "ed2bdeb4",
   "metadata": {},
   "outputs": [],
   "source": [
    "ss.discard(5)"
   ]
  },
  {
   "cell_type": "code",
   "execution_count": 38,
   "id": "1b634042",
   "metadata": {},
   "outputs": [
    {
     "data": {
      "text/plain": [
       "{3}"
      ]
     },
     "execution_count": 38,
     "metadata": {},
     "output_type": "execute_result"
    }
   ],
   "source": [
    "ss"
   ]
  },
  {
   "cell_type": "code",
   "execution_count": 39,
   "id": "ec9a4a8d",
   "metadata": {},
   "outputs": [
    {
     "ename": "KeyError",
     "evalue": "1",
     "output_type": "error",
     "traceback": [
      "\u001b[1;31m---------------------------------------------------------------------------\u001b[0m",
      "\u001b[1;31mKeyError\u001b[0m                                  Traceback (most recent call last)",
      "\u001b[1;32m~\\AppData\\Local\\Temp/ipykernel_14464/95006039.py\u001b[0m in \u001b[0;36m<module>\u001b[1;34m\u001b[0m\n\u001b[1;32m----> 1\u001b[1;33m \u001b[0mss\u001b[0m\u001b[1;33m.\u001b[0m\u001b[0mremove\u001b[0m\u001b[1;33m(\u001b[0m\u001b[1;36m1\u001b[0m\u001b[1;33m)\u001b[0m\u001b[1;33m\u001b[0m\u001b[1;33m\u001b[0m\u001b[0m\n\u001b[0m",
      "\u001b[1;31mKeyError\u001b[0m: 1"
     ]
    }
   ],
   "source": [
    "ss.remove(1)"
   ]
  },
  {
   "cell_type": "code",
   "execution_count": 40,
   "id": "1844f7e0",
   "metadata": {},
   "outputs": [],
   "source": [
    "ss.discard(1)"
   ]
  },
  {
   "cell_type": "code",
   "execution_count": 42,
   "id": "a1929763",
   "metadata": {},
   "outputs": [
    {
     "data": {
      "text/plain": [
       "{'Hemanth', 'hemanth'}"
      ]
     },
     "execution_count": 42,
     "metadata": {},
     "output_type": "execute_result"
    }
   ],
   "source": [
    "{'hemanth','Hemanth'}"
   ]
  },
  {
   "cell_type": "code",
   "execution_count": 46,
   "id": "9f252fdb",
   "metadata": {},
   "outputs": [
    {
     "data": {
      "text/plain": [
       "{1, 1.23, 2, 3, 'a', 'b', 'hemanth', 'q'}"
      ]
     },
     "execution_count": 46,
     "metadata": {},
     "output_type": "execute_result"
    }
   ],
   "source": [
    "{'q','b','a',1,2,3,'hemanth',1.23}"
   ]
  },
  {
   "cell_type": "code",
   "execution_count": 47,
   "id": "f6a3e704",
   "metadata": {},
   "outputs": [],
   "source": [
    "# DICTIONARY"
   ]
  },
  {
   "cell_type": "code",
   "execution_count": 48,
   "id": "9403c994",
   "metadata": {},
   "outputs": [],
   "source": [
    "d = {}"
   ]
  },
  {
   "cell_type": "code",
   "execution_count": 49,
   "id": "649fc1be",
   "metadata": {},
   "outputs": [
    {
     "data": {
      "text/plain": [
       "dict"
      ]
     },
     "execution_count": 49,
     "metadata": {},
     "output_type": "execute_result"
    }
   ],
   "source": [
    "type(d)"
   ]
  },
  {
   "cell_type": "code",
   "execution_count": 50,
   "id": "05859551",
   "metadata": {},
   "outputs": [],
   "source": [
    "d1 = {1:'hemanth',2:3, 3:'kumar',}"
   ]
  },
  {
   "cell_type": "code",
   "execution_count": 55,
   "id": "e577bce1",
   "metadata": {},
   "outputs": [
    {
     "data": {
      "text/plain": [
       "'kumar'"
      ]
     },
     "execution_count": 55,
     "metadata": {},
     "output_type": "execute_result"
    }
   ],
   "source": [
    "d1[3]"
   ]
  },
  {
   "cell_type": "code",
   "execution_count": 59,
   "id": "92c42557",
   "metadata": {},
   "outputs": [],
   "source": [
    " d2 = {'key1': 'hemanth', 'key2': 2,'key3':'a', 45 : [1,2,3,4]}"
   ]
  },
  {
   "cell_type": "code",
   "execution_count": 58,
   "id": "81630146",
   "metadata": {},
   "outputs": [
    {
     "data": {
      "text/plain": [
       "'hemanth'"
      ]
     },
     "execution_count": 58,
     "metadata": {},
     "output_type": "execute_result"
    }
   ],
   "source": [
    "d2['key1']"
   ]
  },
  {
   "cell_type": "code",
   "execution_count": 60,
   "id": "4224afa2",
   "metadata": {},
   "outputs": [
    {
     "data": {
      "text/plain": [
       "[1, 2, 3, 4]"
      ]
     },
     "execution_count": 60,
     "metadata": {},
     "output_type": "execute_result"
    }
   ],
   "source": [
    "d2[45]"
   ]
  },
  {
   "cell_type": "code",
   "execution_count": 62,
   "id": "02a3aeb4",
   "metadata": {},
   "outputs": [
    {
     "data": {
      "text/plain": [
       "{'key1': 'hemanth', 'key2': 2, 'key3': 'a', 45: [1, 2, 3, 4]}"
      ]
     },
     "execution_count": 62,
     "metadata": {},
     "output_type": "execute_result"
    }
   ],
   "source": [
    "d2"
   ]
  },
  {
   "cell_type": "code",
   "execution_count": 63,
   "id": "9040245e",
   "metadata": {},
   "outputs": [
    {
     "data": {
      "text/plain": [
       "'hemanth'"
      ]
     },
     "execution_count": 63,
     "metadata": {},
     "output_type": "execute_result"
    }
   ],
   "source": [
    "d2['key1']"
   ]
  },
  {
   "cell_type": "code",
   "execution_count": 64,
   "id": "2e05b9b3",
   "metadata": {},
   "outputs": [],
   "source": [
    "l = [1,2,3,4]"
   ]
  },
  {
   "cell_type": "code",
   "execution_count": 65,
   "id": "57883882",
   "metadata": {},
   "outputs": [
    {
     "data": {
      "text/plain": [
       "1"
      ]
     },
     "execution_count": 65,
     "metadata": {},
     "output_type": "execute_result"
    }
   ],
   "source": [
    "l[0]"
   ]
  },
  {
   "cell_type": "code",
   "execution_count": 66,
   "id": "5d8251ba",
   "metadata": {},
   "outputs": [],
   "source": [
    "d = {'3' : ['hemanth','kumar',1,3,5,7]}"
   ]
  },
  {
   "cell_type": "code",
   "execution_count": 67,
   "id": "bf72380d",
   "metadata": {},
   "outputs": [],
   "source": [
    "d = { .4 : 1}"
   ]
  },
  {
   "cell_type": "code",
   "execution_count": 68,
   "id": "e8badfe4",
   "metadata": {},
   "outputs": [
    {
     "data": {
      "text/plain": [
       "1"
      ]
     },
     "execution_count": 68,
     "metadata": {},
     "output_type": "execute_result"
    }
   ],
   "source": [
    "d[.4]"
   ]
  },
  {
   "cell_type": "code",
   "execution_count": 69,
   "id": "7da24ba1",
   "metadata": {},
   "outputs": [],
   "source": [
    "d1 = {'key1': [1,2,3,4], 'key2' : 'hemanth','key1': 'kumar' }"
   ]
  },
  {
   "cell_type": "code",
   "execution_count": 70,
   "id": "97c0f5ca",
   "metadata": {},
   "outputs": [
    {
     "data": {
      "text/plain": [
       "'kumar'"
      ]
     },
     "execution_count": 70,
     "metadata": {},
     "output_type": "execute_result"
    }
   ],
   "source": [
    "d1['key1']"
   ]
  },
  {
   "cell_type": "code",
   "execution_count": 73,
   "id": "de2c7cbb",
   "metadata": {},
   "outputs": [],
   "source": [
    "D = {'name': 'hemanth', 'Mobile_Number' : 8096800881,'Mail_Id':'hemanth.nichena@gmail.com','key1':[1,2,34,4,5],'key2': (1,2,3,4,5),'key3': {1,1,2,3,'a','b'},'key4':{1:3,2:4}}"
   ]
  },
  {
   "cell_type": "code",
   "execution_count": 74,
   "id": "923ec85a",
   "metadata": {},
   "outputs": [
    {
     "data": {
      "text/plain": [
       "{'name': 'hemanth',\n",
       " 'Mobile_Number': 8096800881,\n",
       " 'Mail_Id': 'hemanth.nichena@gmail.com',\n",
       " 'key1': [1, 2, 34, 4, 5],\n",
       " 'key2': (1, 2, 3, 4, 5),\n",
       " 'key3': {1, 2, 3, 'a', 'b'},\n",
       " 'key4': {1: 3, 2: 4}}"
      ]
     },
     "execution_count": 74,
     "metadata": {},
     "output_type": "execute_result"
    }
   ],
   "source": [
    "D"
   ]
  },
  {
   "cell_type": "code",
   "execution_count": 78,
   "id": "a4aa03f6",
   "metadata": {},
   "outputs": [
    {
     "data": {
      "text/plain": [
       "{1, 2, 3, 'a', 'b'}"
      ]
     },
     "execution_count": 78,
     "metadata": {},
     "output_type": "execute_result"
    }
   ],
   "source": [
    "D['key3']"
   ]
  },
  {
   "cell_type": "code",
   "execution_count": 79,
   "id": "6a7a7a11",
   "metadata": {},
   "outputs": [
    {
     "data": {
      "text/plain": [
       "set"
      ]
     },
     "execution_count": 79,
     "metadata": {},
     "output_type": "execute_result"
    }
   ],
   "source": [
    "type(D['key3'])"
   ]
  },
  {
   "cell_type": "code",
   "execution_count": 81,
   "id": "67ef0572",
   "metadata": {},
   "outputs": [
    {
     "data": {
      "text/plain": [
       "{1: 3, 2: 4}"
      ]
     },
     "execution_count": 81,
     "metadata": {},
     "output_type": "execute_result"
    }
   ],
   "source": [
    "D['key4']"
   ]
  },
  {
   "cell_type": "code",
   "execution_count": 82,
   "id": "e2041afc",
   "metadata": {},
   "outputs": [
    {
     "data": {
      "text/plain": [
       "3"
      ]
     },
     "execution_count": 82,
     "metadata": {},
     "output_type": "execute_result"
    }
   ],
   "source": [
    "D['key4'][1]"
   ]
  },
  {
   "cell_type": "code",
   "execution_count": 83,
   "id": "e2ddfbc0",
   "metadata": {},
   "outputs": [
    {
     "data": {
      "text/plain": [
       "dict"
      ]
     },
     "execution_count": 83,
     "metadata": {},
     "output_type": "execute_result"
    }
   ],
   "source": [
    "type(D['key4'])"
   ]
  },
  {
   "cell_type": "code",
   "execution_count": 84,
   "id": "328c393d",
   "metadata": {},
   "outputs": [
    {
     "data": {
      "text/plain": [
       "dict_keys(['name', 'Mobile_Number', 'Mail_Id', 'key1', 'key2', 'key3', 'key4'])"
      ]
     },
     "execution_count": 84,
     "metadata": {},
     "output_type": "execute_result"
    }
   ],
   "source": [
    "D.keys()"
   ]
  },
  {
   "cell_type": "code",
   "execution_count": 85,
   "id": "aa373594",
   "metadata": {},
   "outputs": [
    {
     "data": {
      "text/plain": [
       "dict_items([('name', 'hemanth'), ('Mobile_Number', 8096800881), ('Mail_Id', 'hemanth.nichena@gmail.com'), ('key1', [1, 2, 34, 4, 5]), ('key2', (1, 2, 3, 4, 5)), ('key3', {1, 2, 3, 'b', 'a'}), ('key4', {1: 3, 2: 4})])"
      ]
     },
     "execution_count": 85,
     "metadata": {},
     "output_type": "execute_result"
    }
   ],
   "source": [
    "D.items()"
   ]
  },
  {
   "cell_type": "code",
   "execution_count": 86,
   "id": "08692bb6",
   "metadata": {},
   "outputs": [
    {
     "data": {
      "text/plain": [
       "dict_values(['hemanth', 8096800881, 'hemanth.nichena@gmail.com', [1, 2, 34, 4, 5], (1, 2, 3, 4, 5), {1, 2, 3, 'b', 'a'}, {1: 3, 2: 4}])"
      ]
     },
     "execution_count": 86,
     "metadata": {},
     "output_type": "execute_result"
    }
   ],
   "source": [
    "D.values()"
   ]
  },
  {
   "cell_type": "code",
   "execution_count": 88,
   "id": "e3114c37",
   "metadata": {},
   "outputs": [
    {
     "data": {
      "text/plain": [
       "dict_items"
      ]
     },
     "execution_count": 88,
     "metadata": {},
     "output_type": "execute_result"
    }
   ],
   "source": [
    "type(D.items())"
   ]
  },
  {
   "cell_type": "code",
   "execution_count": 89,
   "id": "58428ce0",
   "metadata": {},
   "outputs": [],
   "source": [
    "D1 = {'key1':\"Hemanth\",'Key2':'Kumar'}"
   ]
  },
  {
   "cell_type": "code",
   "execution_count": 90,
   "id": "c15b7f6d",
   "metadata": {},
   "outputs": [],
   "source": [
    "D1['key3'] = 'Nichenametla'"
   ]
  },
  {
   "cell_type": "code",
   "execution_count": 91,
   "id": "d0b8600e",
   "metadata": {},
   "outputs": [
    {
     "data": {
      "text/plain": [
       "{'key1': 'Hemanth', 'Key2': 'Kumar', 'key3': 'Nichenametla'}"
      ]
     },
     "execution_count": 91,
     "metadata": {},
     "output_type": "execute_result"
    }
   ],
   "source": [
    "D1"
   ]
  },
  {
   "cell_type": "code",
   "execution_count": 92,
   "id": "57986034",
   "metadata": {},
   "outputs": [],
   "source": [
    "D1['key1']= 'Hemu'"
   ]
  },
  {
   "cell_type": "code",
   "execution_count": 93,
   "id": "d6df2a53",
   "metadata": {},
   "outputs": [
    {
     "data": {
      "text/plain": [
       "{'key1': 'Hemu', 'Key2': 'Kumar', 'key3': 'Nichenametla'}"
      ]
     },
     "execution_count": 93,
     "metadata": {},
     "output_type": "execute_result"
    }
   ],
   "source": [
    "D1"
   ]
  },
  {
   "cell_type": "code",
   "execution_count": 94,
   "id": "1916678d",
   "metadata": {},
   "outputs": [],
   "source": [
    "del D1['key1']"
   ]
  },
  {
   "cell_type": "code",
   "execution_count": 95,
   "id": "d7868732",
   "metadata": {},
   "outputs": [
    {
     "data": {
      "text/plain": [
       "{'Key2': 'Kumar', 'key3': 'Nichenametla'}"
      ]
     },
     "execution_count": 95,
     "metadata": {},
     "output_type": "execute_result"
    }
   ],
   "source": [
    "D1"
   ]
  },
  {
   "cell_type": "code",
   "execution_count": 96,
   "id": "d87fbca4",
   "metadata": {},
   "outputs": [],
   "source": [
    "D2 = {'key1' : 'Hemanth', 'key2': 'Kumar','key3': [1,2,3,4,5]}"
   ]
  },
  {
   "cell_type": "code",
   "execution_count": 97,
   "id": "477c411f",
   "metadata": {},
   "outputs": [
    {
     "ename": "TypeError",
     "evalue": "unhashable type: 'list'",
     "output_type": "error",
     "traceback": [
      "\u001b[1;31m---------------------------------------------------------------------------\u001b[0m",
      "\u001b[1;31mTypeError\u001b[0m                                 Traceback (most recent call last)",
      "\u001b[1;32m~\\AppData\\Local\\Temp/ipykernel_14464/155000097.py\u001b[0m in \u001b[0;36m<module>\u001b[1;34m\u001b[0m\n\u001b[1;32m----> 1\u001b[1;33m \u001b[0mD2\u001b[0m\u001b[1;33m[\u001b[0m\u001b[1;33m[\u001b[0m\u001b[1;36m1\u001b[0m\u001b[1;33m,\u001b[0m\u001b[1;36m2\u001b[0m\u001b[1;33m,\u001b[0m\u001b[1;36m3\u001b[0m\u001b[1;33m,\u001b[0m\u001b[1;36m4\u001b[0m\u001b[1;33m]\u001b[0m\u001b[1;33m]\u001b[0m \u001b[1;33m=\u001b[0m \u001b[1;34m'ineuron'\u001b[0m\u001b[1;33m\u001b[0m\u001b[1;33m\u001b[0m\u001b[0m\n\u001b[0m",
      "\u001b[1;31mTypeError\u001b[0m: unhashable type: 'list'"
     ]
    }
   ],
   "source": [
    "D2[[1,2,3,4]] = 'ineuron'"
   ]
  },
  {
   "cell_type": "code",
   "execution_count": 99,
   "id": "2a70c521",
   "metadata": {},
   "outputs": [],
   "source": [
    "D2[(1,2,3,4)] = 'ineuron'"
   ]
  },
  {
   "cell_type": "code",
   "execution_count": 100,
   "id": "f4b9e06d",
   "metadata": {},
   "outputs": [
    {
     "data": {
      "text/plain": [
       "{'key1': 'Hemanth',\n",
       " 'key2': 'Kumar',\n",
       " 'key3': [1, 2, 3, 4, 5],\n",
       " (1, 2, 3, 4): 'ineuron'}"
      ]
     },
     "execution_count": 100,
     "metadata": {},
     "output_type": "execute_result"
    }
   ],
   "source": [
    "D2"
   ]
  },
  {
   "cell_type": "code",
   "execution_count": 102,
   "id": "4c124c2b",
   "metadata": {},
   "outputs": [
    {
     "data": {
      "text/plain": [
       "'Hemanth'"
      ]
     },
     "execution_count": 102,
     "metadata": {},
     "output_type": "execute_result"
    }
   ],
   "source": [
    "D2.get('key1')"
   ]
  },
  {
   "cell_type": "code",
   "execution_count": 103,
   "id": "4b187c8b",
   "metadata": {},
   "outputs": [
    {
     "data": {
      "text/plain": [
       "{'key1': 'Hemanth',\n",
       " 'key2': 'Kumar',\n",
       " 'key3': [1, 2, 3, 4, 5],\n",
       " (1, 2, 3, 4): 'ineuron'}"
      ]
     },
     "execution_count": 103,
     "metadata": {},
     "output_type": "execute_result"
    }
   ],
   "source": [
    "D2"
   ]
  },
  {
   "cell_type": "code",
   "execution_count": 104,
   "id": "493af81f",
   "metadata": {},
   "outputs": [
    {
     "data": {
      "text/plain": [
       "{'Key2': 'Kumar', 'key3': 'Nichenametla'}"
      ]
     },
     "execution_count": 104,
     "metadata": {},
     "output_type": "execute_result"
    }
   ],
   "source": [
    "D1"
   ]
  },
  {
   "cell_type": "code",
   "execution_count": 105,
   "id": "bf6d6e67",
   "metadata": {},
   "outputs": [],
   "source": [
    "D3= {'Key4': 'Kumar', 'key5': 'Nichenametla', 'key6': [1,2,34,5]}"
   ]
  },
  {
   "cell_type": "code",
   "execution_count": 106,
   "id": "81dd2b6f",
   "metadata": {},
   "outputs": [],
   "source": [
    "D1.update(D3)"
   ]
  },
  {
   "cell_type": "code",
   "execution_count": 107,
   "id": "f36c9935",
   "metadata": {},
   "outputs": [
    {
     "data": {
      "text/plain": [
       "{'Key2': 'Kumar',\n",
       " 'key3': 'Nichenametla',\n",
       " 'Key4': 'Kumar',\n",
       " 'key5': 'Nichenametla',\n",
       " 'key6': [1, 2, 34, 5]}"
      ]
     },
     "execution_count": 107,
     "metadata": {},
     "output_type": "execute_result"
    }
   ],
   "source": [
    "D1"
   ]
  },
  {
   "cell_type": "code",
   "execution_count": 108,
   "id": "ac4eff0c",
   "metadata": {},
   "outputs": [
    {
     "data": {
      "text/plain": [
       "{'Key4': 'Kumar', 'key5': 'Nichenametla', 'key6': [1, 2, 34, 5]}"
      ]
     },
     "execution_count": 108,
     "metadata": {},
     "output_type": "execute_result"
    }
   ],
   "source": [
    "D3"
   ]
  },
  {
   "cell_type": "code",
   "execution_count": 109,
   "id": "7bd7aafc",
   "metadata": {},
   "outputs": [
    {
     "ename": "TypeError",
     "evalue": "unsupported operand type(s) for +: 'dict' and 'dict'",
     "output_type": "error",
     "traceback": [
      "\u001b[1;31m---------------------------------------------------------------------------\u001b[0m",
      "\u001b[1;31mTypeError\u001b[0m                                 Traceback (most recent call last)",
      "\u001b[1;32m~\\AppData\\Local\\Temp/ipykernel_14464/1172543668.py\u001b[0m in \u001b[0;36m<module>\u001b[1;34m\u001b[0m\n\u001b[1;32m----> 1\u001b[1;33m \u001b[0mD1\u001b[0m\u001b[1;33m+\u001b[0m\u001b[0mD3\u001b[0m\u001b[1;33m\u001b[0m\u001b[1;33m\u001b[0m\u001b[0m\n\u001b[0m",
      "\u001b[1;31mTypeError\u001b[0m: unsupported operand type(s) for +: 'dict' and 'dict'"
     ]
    }
   ],
   "source": [
    "D1+D3"
   ]
  },
  {
   "cell_type": "code",
   "execution_count": null,
   "id": "057d7902",
   "metadata": {},
   "outputs": [],
   "source": []
  }
 ],
 "metadata": {
  "kernelspec": {
   "display_name": "Python 3 (ipykernel)",
   "language": "python",
   "name": "python3"
  },
  "language_info": {
   "codemirror_mode": {
    "name": "ipython",
    "version": 3
   },
   "file_extension": ".py",
   "mimetype": "text/x-python",
   "name": "python",
   "nbconvert_exporter": "python",
   "pygments_lexer": "ipython3",
   "version": "3.9.7"
  }
 },
 "nbformat": 4,
 "nbformat_minor": 5
}
