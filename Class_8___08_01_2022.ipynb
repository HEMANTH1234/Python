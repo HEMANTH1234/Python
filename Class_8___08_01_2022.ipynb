{
 "cells": [
  {
   "cell_type": "code",
   "execution_count": 148,
   "id": "26838905",
   "metadata": {},
   "outputs": [],
   "source": [
    "# Functions\n",
    "# With help of starric symbol (*) multiple variables can be passed\n",
    "# If the variable is given in the start then it will automatically consider the first element as its value\n",
    "# Arguments always return the tuples\n",
    "# Argument can take any kind of a dataset\n",
    "# Single starric means only value, double starric means key value pair can be passed \n",
    "# while using double starric and a single starric their position is very important. (58) (59) \n",
    "# args - arguments, kwargs - key word Arguments\n",
    "# Lambda function - An Anonymous function, A function without a name (69)\n",
    "# instead of using a lambda function, normal function  will be much better\n",
    "# All data types comprehensions\n",
    "# If an object is holding a value with the help of indices. it can be accessed using the indices then it is an iterator object.\n",
    "# string is iterable but not an iterator.\n",
    "# iter will convert string into iterator from an iterable object\n",
    "# iterable means an element that can be accessed in a sequence manner. but it cannot be accessed it can be accessed only when it is converted into an iterator.\n",
    "# int is not iterable. So it is not converted into an iterator.\n",
    "# All iterables can be converted into an iterators"
   ]
  },
  {
   "cell_type": "code",
   "execution_count": 4,
   "id": "72431208",
   "metadata": {},
   "outputs": [],
   "source": [
    "def test(a,b,c,d,e) :\n",
    "    return a,b,c,d,e"
   ]
  },
  {
   "cell_type": "code",
   "execution_count": 5,
   "id": "a87ef332",
   "metadata": {},
   "outputs": [
    {
     "data": {
      "text/plain": [
       "(34, 35, 36, 37, 38)"
      ]
     },
     "execution_count": 5,
     "metadata": {},
     "output_type": "execute_result"
    }
   ],
   "source": [
    "test(34,35,36,37,38)"
   ]
  },
  {
   "cell_type": "code",
   "execution_count": 15,
   "id": "e66cbec9",
   "metadata": {},
   "outputs": [],
   "source": [
    "# Using starric any number of variables can be passed.\n",
    "def test1(*args) :\n",
    "    return args\n",
    "    "
   ]
  },
  {
   "cell_type": "code",
   "execution_count": 16,
   "id": "01831337",
   "metadata": {},
   "outputs": [
    {
     "data": {
      "text/plain": [
       "(1, 2, 3, 'a')"
      ]
     },
     "execution_count": 16,
     "metadata": {},
     "output_type": "execute_result"
    }
   ],
   "source": [
    "test1(1,2,3,'a')"
   ]
  },
  {
   "cell_type": "code",
   "execution_count": 17,
   "id": "6b418f58",
   "metadata": {},
   "outputs": [],
   "source": [
    "def test2(*hemu) :\n",
    "    return(hemu)"
   ]
  },
  {
   "cell_type": "code",
   "execution_count": 19,
   "id": "f820a51d",
   "metadata": {},
   "outputs": [
    {
     "data": {
      "text/plain": [
       "([1, 2, 3, 4], (1, 2, 3, 4), 'abc')"
      ]
     },
     "execution_count": 19,
     "metadata": {},
     "output_type": "execute_result"
    }
   ],
   "source": [
    "test2([1,2,3,4],(1,2,3,4),'abc')"
   ]
  },
  {
   "cell_type": "code",
   "execution_count": 20,
   "id": "a8b14e77",
   "metadata": {},
   "outputs": [],
   "source": [
    "def test3(*hemanth , a  ) :\n",
    "    return(hemanth,a)"
   ]
  },
  {
   "cell_type": "code",
   "execution_count": 22,
   "id": "b30db3de",
   "metadata": {},
   "outputs": [
    {
     "data": {
      "text/plain": [
       "((34, 56), 5)"
      ]
     },
     "execution_count": 22,
     "metadata": {},
     "output_type": "execute_result"
    }
   ],
   "source": [
    "test3(34,56,a = 5)"
   ]
  },
  {
   "cell_type": "code",
   "execution_count": 23,
   "id": "960de4db",
   "metadata": {},
   "outputs": [],
   "source": [
    "def test4(*hem, a, b, c, d) :\n",
    "    return(hem, a, b, c, d)"
   ]
  },
  {
   "cell_type": "code",
   "execution_count": 25,
   "id": "3e9d641d",
   "metadata": {},
   "outputs": [
    {
     "data": {
      "text/plain": [
       "((1, 2, 3, 4, 5, 6, 7), 3, [4, 4, 5, 78, 9], (100, 1, 2, 3), {2, 3, 4, 123})"
      ]
     },
     "execution_count": 25,
     "metadata": {},
     "output_type": "execute_result"
    }
   ],
   "source": [
    "test4(1,2,3,4,5,6,7, a =3, b = [4,4,5,78,9], c = (100,1,2,3), d = {123,2,4,3,3})"
   ]
  },
  {
   "cell_type": "code",
   "execution_count": 26,
   "id": "f27824aa",
   "metadata": {},
   "outputs": [],
   "source": [
    "def test5(a, *h) :\n",
    "    return(a,h)"
   ]
  },
  {
   "cell_type": "code",
   "execution_count": 28,
   "id": "c2385bea",
   "metadata": {},
   "outputs": [
    {
     "data": {
      "text/plain": [
       "(1, (2, 3))"
      ]
     },
     "execution_count": 28,
     "metadata": {},
     "output_type": "execute_result"
    }
   ],
   "source": [
    "test5(1, 2,3)"
   ]
  },
  {
   "cell_type": "code",
   "execution_count": 29,
   "id": "bd37fefe",
   "metadata": {},
   "outputs": [],
   "source": [
    "def test6(a, *hh , b , c) :\n",
    "    return(a, hh, b, c)\n"
   ]
  },
  {
   "cell_type": "code",
   "execution_count": 30,
   "id": "3eb63ad7",
   "metadata": {},
   "outputs": [
    {
     "data": {
      "text/plain": [
       "(1, (2, 3, 4, 5), 77, 123)"
      ]
     },
     "execution_count": 30,
     "metadata": {},
     "output_type": "execute_result"
    }
   ],
   "source": [
    "test6(1, 2,3,4,5, b = 77, c = 123)"
   ]
  },
  {
   "cell_type": "code",
   "execution_count": 43,
   "id": "fea72862",
   "metadata": {},
   "outputs": [],
   "source": [
    "# Take out only lists from the givem arguments\n",
    "def test6(*args) :\n",
    "    l = []\n",
    "    for i in args :\n",
    "        if type(i) == list :\n",
    "            l.append(i)\n",
    "    return(l)"
   ]
  },
  {
   "cell_type": "code",
   "execution_count": 44,
   "id": "5e2192fb",
   "metadata": {},
   "outputs": [
    {
     "data": {
      "text/plain": [
       "[[1, 2, 3]]"
      ]
     },
     "execution_count": 44,
     "metadata": {},
     "output_type": "execute_result"
    }
   ],
   "source": [
    "test6(1,2,3,[1,2,3])"
   ]
  },
  {
   "cell_type": "code",
   "execution_count": 45,
   "id": "01568cb7",
   "metadata": {},
   "outputs": [
    {
     "data": {
      "text/plain": [
       "[[1, 2, 3], [2, 45, 55]]"
      ]
     },
     "execution_count": 45,
     "metadata": {},
     "output_type": "execute_result"
    }
   ],
   "source": [
    "test6(1,'a',[1,2,3],[2,45,55])"
   ]
  },
  {
   "cell_type": "code",
   "execution_count": 46,
   "id": "198efce4",
   "metadata": {},
   "outputs": [],
   "source": [
    "d = {'a' : [1,2,3,4,5], 'b' : [1,34,56]}"
   ]
  },
  {
   "cell_type": "code",
   "execution_count": 47,
   "id": "356955e7",
   "metadata": {},
   "outputs": [
    {
     "data": {
      "text/plain": [
       "[1, 2, 3, 4, 5]"
      ]
     },
     "execution_count": 47,
     "metadata": {},
     "output_type": "execute_result"
    }
   ],
   "source": [
    "d['a']"
   ]
  },
  {
   "cell_type": "code",
   "execution_count": 49,
   "id": "2884607c",
   "metadata": {},
   "outputs": [],
   "source": [
    "def test7(**kwargs) :\n",
    "    return(kwargs)"
   ]
  },
  {
   "cell_type": "code",
   "execution_count": 51,
   "id": "0e98329a",
   "metadata": {},
   "outputs": [
    {
     "data": {
      "text/plain": [
       "{'a': 345, 'b': [456, 56, 67]}"
      ]
     },
     "execution_count": 51,
     "metadata": {},
     "output_type": "execute_result"
    }
   ],
   "source": [
    "test7(a = 345, b = [456,56,67])"
   ]
  },
  {
   "cell_type": "code",
   "execution_count": 52,
   "id": "bb3f2bac",
   "metadata": {},
   "outputs": [],
   "source": [
    "def test8(**hemanth) :\n",
    "    return hemanth"
   ]
  },
  {
   "cell_type": "code",
   "execution_count": 53,
   "id": "75f4c361",
   "metadata": {},
   "outputs": [
    {
     "data": {
      "text/plain": [
       "{'b': 1, 'c': [1, 2, 4], 'd': 123}"
      ]
     },
     "execution_count": 53,
     "metadata": {},
     "output_type": "execute_result"
    }
   ],
   "source": [
    "test8(b =1, c = [1,2,4], d = 123)"
   ]
  },
  {
   "cell_type": "code",
   "execution_count": 54,
   "id": "58be67db",
   "metadata": {},
   "outputs": [],
   "source": [
    "def test9(**hemu) :\n",
    "    return(hemu)"
   ]
  },
  {
   "cell_type": "code",
   "execution_count": 55,
   "id": "a482c239",
   "metadata": {},
   "outputs": [
    {
     "data": {
      "text/plain": [
       "{'name': 'hemanth',\n",
       " 'age': 24,\n",
       " 'Phone_number': 8096800881,\n",
       " 'mail_id': 'hemanth.nichena@gmail.com'}"
      ]
     },
     "execution_count": 55,
     "metadata": {},
     "output_type": "execute_result"
    }
   ],
   "source": [
    "test9(name = 'hemanth', age = 24, Phone_number = 8096800881, mail_id = 'hemanth.nichena@gmail.com', Address)"
   ]
  },
  {
   "cell_type": "code",
   "execution_count": 56,
   "id": "47873d80",
   "metadata": {},
   "outputs": [],
   "source": [
    "def test10(a, **h) :\n",
    "    return(a,h)"
   ]
  },
  {
   "cell_type": "code",
   "execution_count": 57,
   "id": "561140c7",
   "metadata": {},
   "outputs": [
    {
     "data": {
      "text/plain": [
       "(10, {'b': 11, 'c': 123, 'd': 'a', 'e': [1, 2, 3]})"
      ]
     },
     "execution_count": 57,
     "metadata": {},
     "output_type": "execute_result"
    }
   ],
   "source": [
    "test10(10, b = 11, c= 123, d = 'a', e = [1,2,3])"
   ]
  },
  {
   "cell_type": "code",
   "execution_count": 58,
   "id": "c1bf7122",
   "metadata": {},
   "outputs": [
    {
     "ename": "SyntaxError",
     "evalue": "invalid syntax (Temp/ipykernel_5700/3148992010.py, line 1)",
     "output_type": "error",
     "traceback": [
      "\u001b[1;36m  File \u001b[1;32m\"C:\\Users\\h3kumar\\AppData\\Local\\Temp/ipykernel_5700/3148992010.py\"\u001b[1;36m, line \u001b[1;32m1\u001b[0m\n\u001b[1;33m    def test11(a,**sudh,*args):\u001b[0m\n\u001b[1;37m                        ^\u001b[0m\n\u001b[1;31mSyntaxError\u001b[0m\u001b[1;31m:\u001b[0m invalid syntax\n"
     ]
    }
   ],
   "source": [
    "def test11(a,**sudh,*args):\n",
    "    return a,sudh,args"
   ]
  },
  {
   "cell_type": "code",
   "execution_count": 65,
   "id": "cb14e109",
   "metadata": {},
   "outputs": [],
   "source": [
    "def test12(a,*args,**kwargs):\n",
    "    return a,kwargs,args"
   ]
  },
  {
   "cell_type": "code",
   "execution_count": 66,
   "id": "af86f3c0",
   "metadata": {},
   "outputs": [
    {
     "data": {
      "text/plain": [
       "(45, {'h': 'as', 'b': [1, 2, 3]}, (56, 67, 65))"
      ]
     },
     "execution_count": 66,
     "metadata": {},
     "output_type": "execute_result"
    }
   ],
   "source": [
    "test12(45,56,67,65,h = 'as',b = [1,2,3])"
   ]
  },
  {
   "cell_type": "code",
   "execution_count": 67,
   "id": "981a0bc6",
   "metadata": {},
   "outputs": [],
   "source": [
    "def test13(a,b):\n",
    "    return(a*b)"
   ]
  },
  {
   "cell_type": "code",
   "execution_count": 68,
   "id": "3fd86f93",
   "metadata": {},
   "outputs": [
    {
     "data": {
      "text/plain": [
       "144"
      ]
     },
     "execution_count": 68,
     "metadata": {},
     "output_type": "execute_result"
    }
   ],
   "source": [
    "test13(12,12)"
   ]
  },
  {
   "cell_type": "code",
   "execution_count": 75,
   "id": "6d92ec16",
   "metadata": {},
   "outputs": [],
   "source": [
    "H = lambda a, b : a*b"
   ]
  },
  {
   "cell_type": "code",
   "execution_count": 77,
   "id": "fca612ad",
   "metadata": {},
   "outputs": [
    {
     "data": {
      "text/plain": [
       "1452"
      ]
     },
     "execution_count": 77,
     "metadata": {},
     "output_type": "execute_result"
    }
   ],
   "source": [
    "H(121,12)"
   ]
  },
  {
   "cell_type": "code",
   "execution_count": 83,
   "id": "dee95cd1",
   "metadata": {},
   "outputs": [],
   "source": [
    "H = lambda *a :a"
   ]
  },
  {
   "cell_type": "code",
   "execution_count": 84,
   "id": "0dcb88cd",
   "metadata": {},
   "outputs": [
    {
     "data": {
      "text/plain": [
       "(1, 2, 3, 4, 5)"
      ]
     },
     "execution_count": 84,
     "metadata": {},
     "output_type": "execute_result"
    }
   ],
   "source": [
    "H(1,2,3,4,5)"
   ]
  },
  {
   "cell_type": "code",
   "execution_count": 91,
   "id": "a3e1d26a",
   "metadata": {},
   "outputs": [],
   "source": [
    "C = lambda a,b : (a+b,a*b)"
   ]
  },
  {
   "cell_type": "code",
   "execution_count": 93,
   "id": "81c8da58",
   "metadata": {},
   "outputs": [
    {
     "data": {
      "text/plain": [
       "(242, 2541)"
      ]
     },
     "execution_count": 93,
     "metadata": {},
     "output_type": "execute_result"
    }
   ],
   "source": [
    "C(11,231)"
   ]
  },
  {
   "cell_type": "code",
   "execution_count": 94,
   "id": "19ca7163",
   "metadata": {},
   "outputs": [
    {
     "ename": "SyntaxError",
     "evalue": "invalid syntax (Temp/ipykernel_5700/604260395.py, line 1)",
     "output_type": "error",
     "traceback": [
      "\u001b[1;36m  File \u001b[1;32m\"C:\\Users\\h3kumar\\AppData\\Local\\Temp/ipykernel_5700/604260395.py\"\u001b[1;36m, line \u001b[1;32m1\u001b[0m\n\u001b[1;33m    x = lambda x: (for i in x : print(i))\u001b[0m\n\u001b[1;37m                   ^\u001b[0m\n\u001b[1;31mSyntaxError\u001b[0m\u001b[1;31m:\u001b[0m invalid syntax\n"
     ]
    }
   ],
   "source": [
    "x = lambda x: (for i in x : print(i))"
   ]
  },
  {
   "cell_type": "code",
   "execution_count": 104,
   "id": "0248ddd5",
   "metadata": {},
   "outputs": [],
   "source": [
    "x = lambda x : [i for i in x]"
   ]
  },
  {
   "cell_type": "code",
   "execution_count": 105,
   "id": "c7227e5b",
   "metadata": {},
   "outputs": [
    {
     "data": {
      "text/plain": [
       "[1, 2, 3, 4]"
      ]
     },
     "execution_count": 105,
     "metadata": {},
     "output_type": "execute_result"
    }
   ],
   "source": [
    "x([1,2,3,4])"
   ]
  },
  {
   "cell_type": "code",
   "execution_count": 108,
   "id": "88b4c248",
   "metadata": {},
   "outputs": [
    {
     "data": {
      "text/plain": [
       "[1, 2, 3, 4, 5]"
      ]
     },
     "execution_count": 108,
     "metadata": {},
     "output_type": "execute_result"
    }
   ],
   "source": [
    "l = [1,2,3,4,5]\n",
    "[i for i in l]"
   ]
  },
  {
   "cell_type": "code",
   "execution_count": 109,
   "id": "651573d5",
   "metadata": {},
   "outputs": [],
   "source": [
    "a = lambda **kwargs : kwargs"
   ]
  },
  {
   "cell_type": "code",
   "execution_count": 110,
   "id": "1afad120",
   "metadata": {},
   "outputs": [
    {
     "data": {
      "text/plain": [
       "{'a': 5, 'b': 6}"
      ]
     },
     "execution_count": 110,
     "metadata": {},
     "output_type": "execute_result"
    }
   ],
   "source": [
    "a(a=5,b=6)"
   ]
  },
  {
   "cell_type": "code",
   "execution_count": 122,
   "id": "7bfb3268",
   "metadata": {},
   "outputs": [],
   "source": [
    "# Global variable and local variable\n",
    "\n",
    "a =10\n",
    "def test16(c,d):\n",
    "    a =5\n",
    "    print(a)\n",
    "    return c*d"
   ]
  },
  {
   "cell_type": "code",
   "execution_count": 123,
   "id": "551e7f9e",
   "metadata": {},
   "outputs": [
    {
     "name": "stdout",
     "output_type": "stream",
     "text": [
      "5\n"
     ]
    },
    {
     "data": {
      "text/plain": [
       "500"
      ]
     },
     "execution_count": 123,
     "metadata": {},
     "output_type": "execute_result"
    }
   ],
   "source": [
    "test16(a,50)"
   ]
  },
  {
   "cell_type": "code",
   "execution_count": 124,
   "id": "3d3335fa",
   "metadata": {},
   "outputs": [
    {
     "data": {
      "text/plain": [
       "10"
      ]
     },
     "execution_count": 124,
     "metadata": {},
     "output_type": "execute_result"
    }
   ],
   "source": [
    "a"
   ]
  },
  {
   "cell_type": "code",
   "execution_count": 126,
   "id": "0a06f1c6",
   "metadata": {},
   "outputs": [],
   "source": [
    "lst=[1,2,3,56,78,7,88]\n",
    "L1 = []\n",
    "for i in lst :\n",
    "    L1.append(i+2)"
   ]
  },
  {
   "cell_type": "code",
   "execution_count": 133,
   "id": "5dfa682b",
   "metadata": {},
   "outputs": [
    {
     "data": {
      "text/plain": [
       "[3, 4, 5, 58, 80, 9, 90]"
      ]
     },
     "execution_count": 133,
     "metadata": {},
     "output_type": "execute_result"
    }
   ],
   "source": [
    "L1"
   ]
  },
  {
   "cell_type": "code",
   "execution_count": 128,
   "id": "cffa33f9",
   "metadata": {},
   "outputs": [],
   "source": [
    "def test17(a) :\n",
    "    L1 = []\n",
    "    for i in a :\n",
    "        L1.append(i+2)\n",
    "    return(L1)"
   ]
  },
  {
   "cell_type": "code",
   "execution_count": 129,
   "id": "1cd40a14",
   "metadata": {},
   "outputs": [
    {
     "data": {
      "text/plain": [
       "[3, 4, 36, 7, 8, 9, 100]"
      ]
     },
     "execution_count": 129,
     "metadata": {},
     "output_type": "execute_result"
    }
   ],
   "source": [
    "test17([1,2,34,5,6,7,98])"
   ]
  },
  {
   "cell_type": "code",
   "execution_count": 134,
   "id": "991a3284",
   "metadata": {},
   "outputs": [],
   "source": [
    "X = lambda a : [i +2 for i in a ]"
   ]
  },
  {
   "cell_type": "code",
   "execution_count": 136,
   "id": "93f7d4b1",
   "metadata": {},
   "outputs": [
    {
     "data": {
      "text/plain": [
       "[5, 6, 7, 60, 82, 11, 92]"
      ]
     },
     "execution_count": 136,
     "metadata": {},
     "output_type": "execute_result"
    }
   ],
   "source": [
    "X(L1)"
   ]
  },
  {
   "cell_type": "code",
   "execution_count": 137,
   "id": "63590ef3",
   "metadata": {},
   "outputs": [
    {
     "data": {
      "text/plain": [
       "[5, 6, 7, 60, 82, 11, 92]"
      ]
     },
     "execution_count": 137,
     "metadata": {},
     "output_type": "execute_result"
    }
   ],
   "source": [
    "[i+2 for i in L1]"
   ]
  },
  {
   "cell_type": "code",
   "execution_count": 141,
   "id": "7568e199",
   "metadata": {},
   "outputs": [
    {
     "data": {
      "text/plain": [
       "[(9, 6)]"
      ]
     },
     "execution_count": 141,
     "metadata": {},
     "output_type": "execute_result"
    }
   ],
   "source": [
    "[((i**2),(i+i)) for i in L1 if i < 4] "
   ]
  },
  {
   "cell_type": "code",
   "execution_count": 142,
   "id": "c6dba3d9",
   "metadata": {},
   "outputs": [
    {
     "data": {
      "text/plain": [
       "{0: 0, 1: 1, 2: 4, 3: 9, 4: 16, 5: 25, 6: 36, 7: 49, 8: 64, 9: 81}"
      ]
     },
     "execution_count": 142,
     "metadata": {},
     "output_type": "execute_result"
    }
   ],
   "source": [
    "{i:i**2 for i in range(10)}"
   ]
  },
  {
   "cell_type": "code",
   "execution_count": 143,
   "id": "b45bc108",
   "metadata": {},
   "outputs": [],
   "source": [
    "d1 = {}\n",
    "for i in range(10) :\n",
    "    d1[i] = i**2"
   ]
  },
  {
   "cell_type": "code",
   "execution_count": 144,
   "id": "add482b3",
   "metadata": {},
   "outputs": [
    {
     "data": {
      "text/plain": [
       "{0: 0, 1: 1, 2: 4, 3: 9, 4: 16, 5: 25, 6: 36, 7: 49, 8: 64, 9: 81}"
      ]
     },
     "execution_count": 144,
     "metadata": {},
     "output_type": "execute_result"
    }
   ],
   "source": [
    "d1"
   ]
  },
  {
   "cell_type": "code",
   "execution_count": 147,
   "id": "79cb2bbd",
   "metadata": {},
   "outputs": [
    {
     "data": {
      "text/plain": [
       "(0, 1, 2, 3, 4, 5, 6, 7, 8, 9)"
      ]
     },
     "execution_count": 147,
     "metadata": {},
     "output_type": "execute_result"
    }
   ],
   "source": [
    "tuple(i for i in range(10))"
   ]
  },
  {
   "cell_type": "code",
   "execution_count": 150,
   "id": "619a80f9",
   "metadata": {},
   "outputs": [
    {
     "ename": "TypeError",
     "evalue": "'int' object is not iterable",
     "output_type": "error",
     "traceback": [
      "\u001b[1;31m---------------------------------------------------------------------------\u001b[0m",
      "\u001b[1;31mTypeError\u001b[0m                                 Traceback (most recent call last)",
      "\u001b[1;32m~\\AppData\\Local\\Temp/ipykernel_5700/4248146362.py\u001b[0m in \u001b[0;36m<module>\u001b[1;34m\u001b[0m\n\u001b[0;32m      1\u001b[0m \u001b[0ma\u001b[0m \u001b[1;33m=\u001b[0m \u001b[1;36m56\u001b[0m\u001b[1;33m\u001b[0m\u001b[1;33m\u001b[0m\u001b[0m\n\u001b[1;32m----> 2\u001b[1;33m \u001b[1;32mfor\u001b[0m \u001b[0mi\u001b[0m \u001b[1;32min\u001b[0m \u001b[0ma\u001b[0m \u001b[1;33m:\u001b[0m\u001b[1;33m\u001b[0m\u001b[1;33m\u001b[0m\u001b[0m\n\u001b[0m\u001b[0;32m      3\u001b[0m     \u001b[0mprint\u001b[0m\u001b[1;33m(\u001b[0m\u001b[0mi\u001b[0m\u001b[1;33m)\u001b[0m\u001b[1;33m\u001b[0m\u001b[1;33m\u001b[0m\u001b[0m\n",
      "\u001b[1;31mTypeError\u001b[0m: 'int' object is not iterable"
     ]
    }
   ],
   "source": [
    "a = 56\n",
    "for i in a :\n",
    "    print(i)"
   ]
  },
  {
   "cell_type": "code",
   "execution_count": 151,
   "id": "1c4a2e9f",
   "metadata": {},
   "outputs": [
    {
     "name": "stdout",
     "output_type": "stream",
     "text": [
      "s\n",
      "u\n",
      "d\n",
      "h\n"
     ]
    }
   ],
   "source": [
    "s = 'sudh'\n",
    "for i in s:\n",
    "    print(i)"
   ]
  },
  {
   "cell_type": "code",
   "execution_count": 152,
   "id": "7bec25ae",
   "metadata": {},
   "outputs": [
    {
     "ename": "TypeError",
     "evalue": "'str' object is not an iterator",
     "output_type": "error",
     "traceback": [
      "\u001b[1;31m---------------------------------------------------------------------------\u001b[0m",
      "\u001b[1;31mTypeError\u001b[0m                                 Traceback (most recent call last)",
      "\u001b[1;32m~\\AppData\\Local\\Temp/ipykernel_5700/1977886155.py\u001b[0m in \u001b[0;36m<module>\u001b[1;34m\u001b[0m\n\u001b[1;32m----> 1\u001b[1;33m \u001b[0mnext\u001b[0m\u001b[1;33m(\u001b[0m\u001b[0ms\u001b[0m\u001b[1;33m)\u001b[0m\u001b[1;33m\u001b[0m\u001b[1;33m\u001b[0m\u001b[0m\n\u001b[0m",
      "\u001b[1;31mTypeError\u001b[0m: 'str' object is not an iterator"
     ]
    }
   ],
   "source": [
    "next(s)"
   ]
  },
  {
   "cell_type": "code",
   "execution_count": 153,
   "id": "8471f45c",
   "metadata": {},
   "outputs": [],
   "source": [
    "b = iter(s)"
   ]
  },
  {
   "cell_type": "code",
   "execution_count": 154,
   "id": "022c92a2",
   "metadata": {},
   "outputs": [
    {
     "data": {
      "text/plain": [
       "<str_iterator at 0x1fba0ef7670>"
      ]
     },
     "execution_count": 154,
     "metadata": {},
     "output_type": "execute_result"
    }
   ],
   "source": [
    "b"
   ]
  },
  {
   "cell_type": "code",
   "execution_count": 155,
   "id": "bbcd8e65",
   "metadata": {},
   "outputs": [
    {
     "data": {
      "text/plain": [
       "'s'"
      ]
     },
     "execution_count": 155,
     "metadata": {},
     "output_type": "execute_result"
    }
   ],
   "source": [
    "next(b)"
   ]
  },
  {
   "cell_type": "code",
   "execution_count": 156,
   "id": "c26eec59",
   "metadata": {},
   "outputs": [
    {
     "data": {
      "text/plain": [
       "'u'"
      ]
     },
     "execution_count": 156,
     "metadata": {},
     "output_type": "execute_result"
    }
   ],
   "source": [
    "next(b)"
   ]
  },
  {
   "cell_type": "code",
   "execution_count": 157,
   "id": "d0dc023f",
   "metadata": {},
   "outputs": [
    {
     "data": {
      "text/plain": [
       "'d'"
      ]
     },
     "execution_count": 157,
     "metadata": {},
     "output_type": "execute_result"
    }
   ],
   "source": [
    "next(b)"
   ]
  },
  {
   "cell_type": "code",
   "execution_count": 158,
   "id": "82459afa",
   "metadata": {},
   "outputs": [
    {
     "data": {
      "text/plain": [
       "'h'"
      ]
     },
     "execution_count": 158,
     "metadata": {},
     "output_type": "execute_result"
    }
   ],
   "source": [
    "next(b)"
   ]
  },
  {
   "cell_type": "code",
   "execution_count": 159,
   "id": "e1840301",
   "metadata": {},
   "outputs": [
    {
     "name": "stdout",
     "output_type": "stream",
     "text": [
      "f\n",
      "d\n",
      "s\n",
      "f\n",
      "s\n"
     ]
    }
   ],
   "source": [
    "s = 'fdsfs'\n",
    "for i in s :\n",
    "    print(i)"
   ]
  },
  {
   "cell_type": "code",
   "execution_count": 161,
   "id": "a68b497e",
   "metadata": {},
   "outputs": [],
   "source": [
    "p = 'hemanth'\n",
    "p = iter(p)"
   ]
  },
  {
   "cell_type": "code",
   "execution_count": 163,
   "id": "e28efb73",
   "metadata": {},
   "outputs": [
    {
     "data": {
      "text/plain": [
       "'e'"
      ]
     },
     "execution_count": 163,
     "metadata": {},
     "output_type": "execute_result"
    }
   ],
   "source": [
    "next(p)"
   ]
  },
  {
   "cell_type": "code",
   "execution_count": 164,
   "id": "d2ae78d6",
   "metadata": {},
   "outputs": [
    {
     "data": {
      "text/plain": [
       "'m'"
      ]
     },
     "execution_count": 164,
     "metadata": {},
     "output_type": "execute_result"
    }
   ],
   "source": [
    "next(p)"
   ]
  },
  {
   "cell_type": "code",
   "execution_count": 165,
   "id": "06a1fb09",
   "metadata": {},
   "outputs": [
    {
     "data": {
      "text/plain": [
       "'a'"
      ]
     },
     "execution_count": 165,
     "metadata": {},
     "output_type": "execute_result"
    }
   ],
   "source": [
    "next(p)"
   ]
  },
  {
   "cell_type": "code",
   "execution_count": 166,
   "id": "cd86a7ab",
   "metadata": {},
   "outputs": [
    {
     "data": {
      "text/plain": [
       "'n'"
      ]
     },
     "execution_count": 166,
     "metadata": {},
     "output_type": "execute_result"
    }
   ],
   "source": [
    "next(p)"
   ]
  },
  {
   "cell_type": "code",
   "execution_count": 167,
   "id": "ed48e812",
   "metadata": {},
   "outputs": [
    {
     "data": {
      "text/plain": [
       "'t'"
      ]
     },
     "execution_count": 167,
     "metadata": {},
     "output_type": "execute_result"
    }
   ],
   "source": [
    "next(p)"
   ]
  },
  {
   "cell_type": "code",
   "execution_count": 168,
   "id": "ce9205db",
   "metadata": {},
   "outputs": [
    {
     "data": {
      "text/plain": [
       "'h'"
      ]
     },
     "execution_count": 168,
     "metadata": {},
     "output_type": "execute_result"
    }
   ],
   "source": [
    "next(p)"
   ]
  },
  {
   "cell_type": "code",
   "execution_count": 169,
   "id": "d13d0c31",
   "metadata": {},
   "outputs": [
    {
     "ename": "StopIteration",
     "evalue": "",
     "output_type": "error",
     "traceback": [
      "\u001b[1;31m---------------------------------------------------------------------------\u001b[0m",
      "\u001b[1;31mStopIteration\u001b[0m                             Traceback (most recent call last)",
      "\u001b[1;32m~\\AppData\\Local\\Temp/ipykernel_5700/3711593939.py\u001b[0m in \u001b[0;36m<module>\u001b[1;34m\u001b[0m\n\u001b[1;32m----> 1\u001b[1;33m \u001b[0mnext\u001b[0m\u001b[1;33m(\u001b[0m\u001b[0mp\u001b[0m\u001b[1;33m)\u001b[0m\u001b[1;33m\u001b[0m\u001b[1;33m\u001b[0m\u001b[0m\n\u001b[0m",
      "\u001b[1;31mStopIteration\u001b[0m: "
     ]
    }
   ],
   "source": [
    "next(p)"
   ]
  },
  {
   "cell_type": "code",
   "execution_count": 179,
   "id": "f2305b87",
   "metadata": {},
   "outputs": [],
   "source": [
    "L = [3,4,5,6]"
   ]
  },
  {
   "cell_type": "code",
   "execution_count": 180,
   "id": "3df10eff",
   "metadata": {},
   "outputs": [
    {
     "ename": "TypeError",
     "evalue": "'list' object is not an iterator",
     "output_type": "error",
     "traceback": [
      "\u001b[1;31m---------------------------------------------------------------------------\u001b[0m",
      "\u001b[1;31mTypeError\u001b[0m                                 Traceback (most recent call last)",
      "\u001b[1;32m~\\AppData\\Local\\Temp/ipykernel_5700/1429096135.py\u001b[0m in \u001b[0;36m<module>\u001b[1;34m\u001b[0m\n\u001b[1;32m----> 1\u001b[1;33m \u001b[0mnext\u001b[0m\u001b[1;33m(\u001b[0m\u001b[0mL\u001b[0m\u001b[1;33m)\u001b[0m\u001b[1;33m\u001b[0m\u001b[1;33m\u001b[0m\u001b[0m\n\u001b[0m",
      "\u001b[1;31mTypeError\u001b[0m: 'list' object is not an iterator"
     ]
    }
   ],
   "source": [
    "next(L)"
   ]
  },
  {
   "cell_type": "code",
   "execution_count": 181,
   "id": "b15e8796",
   "metadata": {},
   "outputs": [],
   "source": [
    "Q = iter(L)"
   ]
  },
  {
   "cell_type": "code",
   "execution_count": 182,
   "id": "e2caafde",
   "metadata": {},
   "outputs": [
    {
     "data": {
      "text/plain": [
       "3"
      ]
     },
     "execution_count": 182,
     "metadata": {},
     "output_type": "execute_result"
    }
   ],
   "source": [
    "next(Q)"
   ]
  },
  {
   "cell_type": "code",
   "execution_count": 183,
   "id": "2b3ff9ad",
   "metadata": {},
   "outputs": [
    {
     "data": {
      "text/plain": [
       "4"
      ]
     },
     "execution_count": 183,
     "metadata": {},
     "output_type": "execute_result"
    }
   ],
   "source": [
    "next(Q)"
   ]
  },
  {
   "cell_type": "code",
   "execution_count": 184,
   "id": "b918a9df",
   "metadata": {},
   "outputs": [
    {
     "data": {
      "text/plain": [
       "5"
      ]
     },
     "execution_count": 184,
     "metadata": {},
     "output_type": "execute_result"
    }
   ],
   "source": [
    "next(Q)"
   ]
  },
  {
   "cell_type": "code",
   "execution_count": 185,
   "id": "d4a200c2",
   "metadata": {},
   "outputs": [
    {
     "data": {
      "text/plain": [
       "6"
      ]
     },
     "execution_count": 185,
     "metadata": {},
     "output_type": "execute_result"
    }
   ],
   "source": [
    "next(Q)"
   ]
  },
  {
   "cell_type": "code",
   "execution_count": 186,
   "id": "ff331c12",
   "metadata": {},
   "outputs": [
    {
     "ename": "StopIteration",
     "evalue": "",
     "output_type": "error",
     "traceback": [
      "\u001b[1;31m---------------------------------------------------------------------------\u001b[0m",
      "\u001b[1;31mStopIteration\u001b[0m                             Traceback (most recent call last)",
      "\u001b[1;32m~\\AppData\\Local\\Temp/ipykernel_5700/663994395.py\u001b[0m in \u001b[0;36m<module>\u001b[1;34m\u001b[0m\n\u001b[1;32m----> 1\u001b[1;33m \u001b[0mnext\u001b[0m\u001b[1;33m(\u001b[0m\u001b[0mQ\u001b[0m\u001b[1;33m)\u001b[0m\u001b[1;33m\u001b[0m\u001b[1;33m\u001b[0m\u001b[0m\n\u001b[0m",
      "\u001b[1;31mStopIteration\u001b[0m: "
     ]
    }
   ],
   "source": [
    "next(Q)"
   ]
  },
  {
   "cell_type": "code",
   "execution_count": null,
   "id": "d5c14755",
   "metadata": {},
   "outputs": [],
   "source": []
  }
 ],
 "metadata": {
  "kernelspec": {
   "display_name": "Python 3 (ipykernel)",
   "language": "python",
   "name": "python3"
  },
  "language_info": {
   "codemirror_mode": {
    "name": "ipython",
    "version": 3
   },
   "file_extension": ".py",
   "mimetype": "text/x-python",
   "name": "python",
   "nbconvert_exporter": "python",
   "pygments_lexer": "ipython3",
   "version": "3.9.7"
  }
 },
 "nbformat": 4,
 "nbformat_minor": 5
}
